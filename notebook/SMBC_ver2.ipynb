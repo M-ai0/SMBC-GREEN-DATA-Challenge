{
 "cells": [
  {
   "cell_type": "code",
   "execution_count": 1,
   "metadata": {},
   "outputs": [],
   "source": [
    "import numpy as np\n",
    "import pandas as pd\n",
    "import matplotlib.pyplot as plt\n",
    "import seaborn as sns\n",
    "%matplotlib inline\n",
    "from sklearn.preprocessing import OneHotEncoder"
   ]
  },
  {
   "cell_type": "code",
   "execution_count": 2,
   "metadata": {},
   "outputs": [],
   "source": [
    "test = pd.read_csv('/SMBC-GREEN-DATA-Challenge/data/test-2.csv') \n",
    "train = pd.read_csv('/SMBC-GREEN-DATA-Challenge/data/train-2.csv')"
   ]
  },
  {
   "cell_type": "code",
   "execution_count": 3,
   "metadata": {},
   "outputs": [
    {
     "data": {
      "text/html": [
       "<div>\n",
       "<style scoped>\n",
       "    .dataframe tbody tr th:only-of-type {\n",
       "        vertical-align: middle;\n",
       "    }\n",
       "\n",
       "    .dataframe tbody tr th {\n",
       "        vertical-align: top;\n",
       "    }\n",
       "\n",
       "    .dataframe thead th {\n",
       "        text-align: right;\n",
       "    }\n",
       "</style>\n",
       "<table border=\"1\" class=\"dataframe\">\n",
       "  <thead>\n",
       "    <tr style=\"text-align: right;\">\n",
       "      <th></th>\n",
       "      <th>Unnamed: 0</th>\n",
       "      <th>created_at</th>\n",
       "      <th>tree_dbh</th>\n",
       "      <th>curb_loc</th>\n",
       "      <th>health</th>\n",
       "      <th>steward</th>\n",
       "      <th>guards</th>\n",
       "      <th>sidewalk</th>\n",
       "      <th>user_type</th>\n",
       "      <th>problems</th>\n",
       "      <th>...</th>\n",
       "      <th>nta</th>\n",
       "      <th>nta_name</th>\n",
       "      <th>borocode</th>\n",
       "      <th>boro_ct</th>\n",
       "      <th>boroname</th>\n",
       "      <th>zip_city</th>\n",
       "      <th>cb_num</th>\n",
       "      <th>st_senate</th>\n",
       "      <th>st_assem</th>\n",
       "      <th>cncldist</th>\n",
       "    </tr>\n",
       "  </thead>\n",
       "  <tbody>\n",
       "    <tr>\n",
       "      <th>0</th>\n",
       "      <td>0</td>\n",
       "      <td>2015-06-29</td>\n",
       "      <td>14</td>\n",
       "      <td>OnCurb</td>\n",
       "      <td>1</td>\n",
       "      <td>NaN</td>\n",
       "      <td>NaN</td>\n",
       "      <td>Damage</td>\n",
       "      <td>Volunteer</td>\n",
       "      <td>NaN</td>\n",
       "      <td>...</td>\n",
       "      <td>QN45</td>\n",
       "      <td>Douglas Manor-Douglaston-Little Neck</td>\n",
       "      <td>4</td>\n",
       "      <td>4152901</td>\n",
       "      <td>Queens</td>\n",
       "      <td>Little Neck</td>\n",
       "      <td>411</td>\n",
       "      <td>11</td>\n",
       "      <td>25</td>\n",
       "      <td>23</td>\n",
       "    </tr>\n",
       "    <tr>\n",
       "      <th>1</th>\n",
       "      <td>1</td>\n",
       "      <td>2016-09-21</td>\n",
       "      <td>5</td>\n",
       "      <td>OnCurb</td>\n",
       "      <td>1</td>\n",
       "      <td>3or4</td>\n",
       "      <td>Helpful</td>\n",
       "      <td>NoDamage</td>\n",
       "      <td>Volunteer</td>\n",
       "      <td>NaN</td>\n",
       "      <td>...</td>\n",
       "      <td>BX05</td>\n",
       "      <td>Bedford Park-Fordham North</td>\n",
       "      <td>2</td>\n",
       "      <td>2039901</td>\n",
       "      <td>Bronx</td>\n",
       "      <td>Bronx</td>\n",
       "      <td>207</td>\n",
       "      <td>33</td>\n",
       "      <td>78</td>\n",
       "      <td>15</td>\n",
       "    </tr>\n",
       "    <tr>\n",
       "      <th>2</th>\n",
       "      <td>2</td>\n",
       "      <td>2015-09-13</td>\n",
       "      <td>26</td>\n",
       "      <td>OnCurb</td>\n",
       "      <td>2</td>\n",
       "      <td>NaN</td>\n",
       "      <td>NaN</td>\n",
       "      <td>NoDamage</td>\n",
       "      <td>Volunteer</td>\n",
       "      <td>StonesBranchLights</td>\n",
       "      <td>...</td>\n",
       "      <td>SI01</td>\n",
       "      <td>Annadale-Huguenot-Prince's Bay-Eltingville</td>\n",
       "      <td>5</td>\n",
       "      <td>5017011</td>\n",
       "      <td>Staten Island</td>\n",
       "      <td>Staten Island</td>\n",
       "      <td>503</td>\n",
       "      <td>24</td>\n",
       "      <td>62</td>\n",
       "      <td>51</td>\n",
       "    </tr>\n",
       "    <tr>\n",
       "      <th>3</th>\n",
       "      <td>3</td>\n",
       "      <td>2016-05-09</td>\n",
       "      <td>15</td>\n",
       "      <td>OnCurb</td>\n",
       "      <td>0</td>\n",
       "      <td>NaN</td>\n",
       "      <td>NaN</td>\n",
       "      <td>Damage</td>\n",
       "      <td>NYC Parks Staff</td>\n",
       "      <td>NaN</td>\n",
       "      <td>...</td>\n",
       "      <td>SI11</td>\n",
       "      <td>Charleston-Richmond Valley-Tottenville</td>\n",
       "      <td>5</td>\n",
       "      <td>5024401</td>\n",
       "      <td>Staten Island</td>\n",
       "      <td>Staten Island</td>\n",
       "      <td>503</td>\n",
       "      <td>24</td>\n",
       "      <td>62</td>\n",
       "      <td>51</td>\n",
       "    </tr>\n",
       "    <tr>\n",
       "      <th>4</th>\n",
       "      <td>4</td>\n",
       "      <td>2016-06-24</td>\n",
       "      <td>23</td>\n",
       "      <td>OnCurb</td>\n",
       "      <td>1</td>\n",
       "      <td>NaN</td>\n",
       "      <td>NaN</td>\n",
       "      <td>NoDamage</td>\n",
       "      <td>Volunteer</td>\n",
       "      <td>Stones</td>\n",
       "      <td>...</td>\n",
       "      <td>MN03</td>\n",
       "      <td>Central Harlem North-Polo Grounds</td>\n",
       "      <td>1</td>\n",
       "      <td>1022102</td>\n",
       "      <td>Manhattan</td>\n",
       "      <td>New York</td>\n",
       "      <td>110</td>\n",
       "      <td>30</td>\n",
       "      <td>70</td>\n",
       "      <td>9</td>\n",
       "    </tr>\n",
       "  </tbody>\n",
       "</table>\n",
       "<p>5 rows × 22 columns</p>\n",
       "</div>"
      ],
      "text/plain": [
       "   Unnamed: 0  created_at  tree_dbh curb_loc  health steward   guards  \\\n",
       "0           0  2015-06-29        14   OnCurb       1     NaN      NaN   \n",
       "1           1  2016-09-21         5   OnCurb       1    3or4  Helpful   \n",
       "2           2  2015-09-13        26   OnCurb       2     NaN      NaN   \n",
       "3           3  2016-05-09        15   OnCurb       0     NaN      NaN   \n",
       "4           4  2016-06-24        23   OnCurb       1     NaN      NaN   \n",
       "\n",
       "   sidewalk        user_type            problems  ...   nta  \\\n",
       "0    Damage        Volunteer                 NaN  ...  QN45   \n",
       "1  NoDamage        Volunteer                 NaN  ...  BX05   \n",
       "2  NoDamage        Volunteer  StonesBranchLights  ...  SI01   \n",
       "3    Damage  NYC Parks Staff                 NaN  ...  SI11   \n",
       "4  NoDamage        Volunteer              Stones  ...  MN03   \n",
       "\n",
       "                                     nta_name borocode  boro_ct  \\\n",
       "0        Douglas Manor-Douglaston-Little Neck        4  4152901   \n",
       "1                  Bedford Park-Fordham North        2  2039901   \n",
       "2  Annadale-Huguenot-Prince's Bay-Eltingville        5  5017011   \n",
       "3      Charleston-Richmond Valley-Tottenville        5  5024401   \n",
       "4           Central Harlem North-Polo Grounds        1  1022102   \n",
       "\n",
       "        boroname       zip_city cb_num st_senate  st_assem  cncldist  \n",
       "0         Queens    Little Neck    411        11        25        23  \n",
       "1          Bronx          Bronx    207        33        78        15  \n",
       "2  Staten Island  Staten Island    503        24        62        51  \n",
       "3  Staten Island  Staten Island    503        24        62        51  \n",
       "4      Manhattan       New York    110        30        70         9  \n",
       "\n",
       "[5 rows x 22 columns]"
      ]
     },
     "execution_count": 3,
     "metadata": {},
     "output_type": "execute_result"
    }
   ],
   "source": [
    "train.head()"
   ]
  },
  {
   "cell_type": "code",
   "execution_count": 4,
   "metadata": {},
   "outputs": [],
   "source": [
    "train[\"created_at\"] = pd.to_datetime(train[\"created_at\"])"
   ]
  },
  {
   "cell_type": "code",
   "execution_count": 5,
   "metadata": {},
   "outputs": [
    {
     "name": "stdout",
     "output_type": "stream",
     "text": [
      "<class 'pandas.core.frame.DataFrame'>\n",
      "RangeIndex: 19984 entries, 0 to 19983\n",
      "Data columns (total 22 columns):\n",
      " #   Column      Non-Null Count  Dtype         \n",
      "---  ------      --------------  -----         \n",
      " 0   Unnamed: 0  19984 non-null  int64         \n",
      " 1   created_at  19984 non-null  datetime64[ns]\n",
      " 2   tree_dbh    19984 non-null  int64         \n",
      " 3   curb_loc    19984 non-null  object        \n",
      " 4   health      19984 non-null  int64         \n",
      " 5   steward     5101 non-null   object        \n",
      " 6   guards      5041 non-null   object        \n",
      " 7   sidewalk    19984 non-null  object        \n",
      " 8   user_type   19984 non-null  object        \n",
      " 9   problems    7741 non-null   object        \n",
      " 10  spc_common  19984 non-null  object        \n",
      " 11  spc_latin   19984 non-null  object        \n",
      " 12  nta         19984 non-null  object        \n",
      " 13  nta_name    19984 non-null  object        \n",
      " 14  borocode    19984 non-null  int64         \n",
      " 15  boro_ct     19984 non-null  int64         \n",
      " 16  boroname    19984 non-null  object        \n",
      " 17  zip_city    19984 non-null  object        \n",
      " 18  cb_num      19984 non-null  int64         \n",
      " 19  st_senate   19984 non-null  int64         \n",
      " 20  st_assem    19984 non-null  int64         \n",
      " 21  cncldist    19984 non-null  int64         \n",
      "dtypes: datetime64[ns](1), int64(9), object(12)\n",
      "memory usage: 3.4+ MB\n"
     ]
    }
   ],
   "source": [
    "train.info()"
   ]
  },
  {
   "cell_type": "code",
   "execution_count": 6,
   "metadata": {},
   "outputs": [],
   "source": [
    "data_all = pd.concat([train, test], sort=False).reset_index(drop=True)"
   ]
  },
  {
   "cell_type": "code",
   "execution_count": 7,
   "metadata": {},
   "outputs": [
    {
     "data": {
      "text/plain": [
       "0    Helpful\n",
       "Name: guards, dtype: object"
      ]
     },
     "execution_count": 7,
     "metadata": {},
     "output_type": "execute_result"
    }
   ],
   "source": [
    "#欠損値処理する前はHelpfulが最頻値だった\n",
    "#Unsureがあるので、欠損値はUnsureにする\n",
    "train[\"guards\"].mode()"
   ]
  },
  {
   "cell_type": "code",
   "execution_count": 8,
   "metadata": {},
   "outputs": [],
   "source": [
    "data_all[\"guards\"] = data_all[\"guards\"].fillna(\"Unsure\")"
   ]
  },
  {
   "cell_type": "code",
   "execution_count": 9,
   "metadata": {},
   "outputs": [
    {
     "data": {
      "text/plain": [
       "guards\n",
       "Unsure     31000\n",
       "Helpful     7366\n",
       "Harmful     1320\n",
       "Name: count, dtype: int64"
      ]
     },
     "execution_count": 9,
     "metadata": {},
     "output_type": "execute_result"
    }
   ],
   "source": [
    "data_all[\"guards\"].value_counts()"
   ]
  },
  {
   "cell_type": "code",
   "execution_count": 10,
   "metadata": {},
   "outputs": [
    {
     "data": {
      "text/html": [
       "<div>\n",
       "<style scoped>\n",
       "    .dataframe tbody tr th:only-of-type {\n",
       "        vertical-align: middle;\n",
       "    }\n",
       "\n",
       "    .dataframe tbody tr th {\n",
       "        vertical-align: top;\n",
       "    }\n",
       "\n",
       "    .dataframe thead th {\n",
       "        text-align: right;\n",
       "    }\n",
       "</style>\n",
       "<table border=\"1\" class=\"dataframe\">\n",
       "  <thead>\n",
       "    <tr style=\"text-align: right;\">\n",
       "      <th></th>\n",
       "      <th>guards_Harmful</th>\n",
       "      <th>guards_Helpful</th>\n",
       "      <th>guards_Unsure</th>\n",
       "    </tr>\n",
       "  </thead>\n",
       "  <tbody>\n",
       "    <tr>\n",
       "      <th>0</th>\n",
       "      <td>0</td>\n",
       "      <td>0</td>\n",
       "      <td>0</td>\n",
       "    </tr>\n",
       "    <tr>\n",
       "      <th>1</th>\n",
       "      <td>0</td>\n",
       "      <td>1</td>\n",
       "      <td>0</td>\n",
       "    </tr>\n",
       "    <tr>\n",
       "      <th>2</th>\n",
       "      <td>0</td>\n",
       "      <td>0</td>\n",
       "      <td>0</td>\n",
       "    </tr>\n",
       "    <tr>\n",
       "      <th>3</th>\n",
       "      <td>0</td>\n",
       "      <td>0</td>\n",
       "      <td>0</td>\n",
       "    </tr>\n",
       "    <tr>\n",
       "      <th>4</th>\n",
       "      <td>0</td>\n",
       "      <td>0</td>\n",
       "      <td>0</td>\n",
       "    </tr>\n",
       "  </tbody>\n",
       "</table>\n",
       "</div>"
      ],
      "text/plain": [
       "   guards_Harmful  guards_Helpful  guards_Unsure\n",
       "0               0               0              0\n",
       "1               0               1              0\n",
       "2               0               0              0\n",
       "3               0               0              0\n",
       "4               0               0              0"
      ]
     },
     "execution_count": 10,
     "metadata": {},
     "output_type": "execute_result"
    }
   ],
   "source": [
    "guards_dummies = pd.get_dummies(train['guards'], prefix='guards', drop_first=False, dtype = int)\n",
    "guards_dummies.head()"
   ]
  },
  {
   "cell_type": "code",
   "execution_count": 11,
   "metadata": {},
   "outputs": [],
   "source": [
    "data_all = pd.get_dummies(data_all, columns=['guards'], drop_first=False, dtype = int)"
   ]
  },
  {
   "cell_type": "code",
   "execution_count": 12,
   "metadata": {},
   "outputs": [],
   "source": [
    "data_all = pd.get_dummies(data_all, columns=['sidewalk', 'curb_loc', 'user_type'], drop_first=False, dtype = int)"
   ]
  },
  {
   "cell_type": "code",
   "execution_count": 13,
   "metadata": {},
   "outputs": [
    {
     "data": {
      "text/html": [
       "<div>\n",
       "<style scoped>\n",
       "    .dataframe tbody tr th:only-of-type {\n",
       "        vertical-align: middle;\n",
       "    }\n",
       "\n",
       "    .dataframe tbody tr th {\n",
       "        vertical-align: top;\n",
       "    }\n",
       "\n",
       "    .dataframe thead th {\n",
       "        text-align: right;\n",
       "    }\n",
       "</style>\n",
       "<table border=\"1\" class=\"dataframe\">\n",
       "  <thead>\n",
       "    <tr style=\"text-align: right;\">\n",
       "      <th></th>\n",
       "      <th>Unnamed: 0</th>\n",
       "      <th>created_at</th>\n",
       "      <th>tree_dbh</th>\n",
       "      <th>health</th>\n",
       "      <th>steward</th>\n",
       "      <th>problems</th>\n",
       "      <th>spc_common</th>\n",
       "      <th>spc_latin</th>\n",
       "      <th>nta</th>\n",
       "      <th>nta_name</th>\n",
       "      <th>...</th>\n",
       "      <th>guards_Harmful</th>\n",
       "      <th>guards_Helpful</th>\n",
       "      <th>guards_Unsure</th>\n",
       "      <th>sidewalk_Damage</th>\n",
       "      <th>sidewalk_NoDamage</th>\n",
       "      <th>curb_loc_OffsetFromCurb</th>\n",
       "      <th>curb_loc_OnCurb</th>\n",
       "      <th>user_type_NYC Parks Staff</th>\n",
       "      <th>user_type_TreesCount Staff</th>\n",
       "      <th>user_type_Volunteer</th>\n",
       "    </tr>\n",
       "  </thead>\n",
       "  <tbody>\n",
       "    <tr>\n",
       "      <th>0</th>\n",
       "      <td>0</td>\n",
       "      <td>2015-06-29 00:00:00</td>\n",
       "      <td>14</td>\n",
       "      <td>1.0</td>\n",
       "      <td>NaN</td>\n",
       "      <td>NaN</td>\n",
       "      <td>English oak</td>\n",
       "      <td>Quercus robur</td>\n",
       "      <td>QN45</td>\n",
       "      <td>Douglas Manor-Douglaston-Little Neck</td>\n",
       "      <td>...</td>\n",
       "      <td>0</td>\n",
       "      <td>0</td>\n",
       "      <td>1</td>\n",
       "      <td>1</td>\n",
       "      <td>0</td>\n",
       "      <td>0</td>\n",
       "      <td>1</td>\n",
       "      <td>0</td>\n",
       "      <td>0</td>\n",
       "      <td>1</td>\n",
       "    </tr>\n",
       "    <tr>\n",
       "      <th>1</th>\n",
       "      <td>1</td>\n",
       "      <td>2016-09-21 00:00:00</td>\n",
       "      <td>5</td>\n",
       "      <td>1.0</td>\n",
       "      <td>3or4</td>\n",
       "      <td>NaN</td>\n",
       "      <td>crimson king maple</td>\n",
       "      <td>Acer platanoides 'Crimson King'</td>\n",
       "      <td>BX05</td>\n",
       "      <td>Bedford Park-Fordham North</td>\n",
       "      <td>...</td>\n",
       "      <td>0</td>\n",
       "      <td>1</td>\n",
       "      <td>0</td>\n",
       "      <td>0</td>\n",
       "      <td>1</td>\n",
       "      <td>0</td>\n",
       "      <td>1</td>\n",
       "      <td>0</td>\n",
       "      <td>0</td>\n",
       "      <td>1</td>\n",
       "    </tr>\n",
       "    <tr>\n",
       "      <th>2</th>\n",
       "      <td>2</td>\n",
       "      <td>2015-09-13 00:00:00</td>\n",
       "      <td>26</td>\n",
       "      <td>2.0</td>\n",
       "      <td>NaN</td>\n",
       "      <td>StonesBranchLights</td>\n",
       "      <td>English oak</td>\n",
       "      <td>Quercus robur</td>\n",
       "      <td>SI01</td>\n",
       "      <td>Annadale-Huguenot-Prince's Bay-Eltingville</td>\n",
       "      <td>...</td>\n",
       "      <td>0</td>\n",
       "      <td>0</td>\n",
       "      <td>1</td>\n",
       "      <td>0</td>\n",
       "      <td>1</td>\n",
       "      <td>0</td>\n",
       "      <td>1</td>\n",
       "      <td>0</td>\n",
       "      <td>0</td>\n",
       "      <td>1</td>\n",
       "    </tr>\n",
       "    <tr>\n",
       "      <th>3</th>\n",
       "      <td>3</td>\n",
       "      <td>2016-05-09 00:00:00</td>\n",
       "      <td>15</td>\n",
       "      <td>0.0</td>\n",
       "      <td>NaN</td>\n",
       "      <td>NaN</td>\n",
       "      <td>honeylocust</td>\n",
       "      <td>Gleditsia triacanthos var. inermis</td>\n",
       "      <td>SI11</td>\n",
       "      <td>Charleston-Richmond Valley-Tottenville</td>\n",
       "      <td>...</td>\n",
       "      <td>0</td>\n",
       "      <td>0</td>\n",
       "      <td>1</td>\n",
       "      <td>1</td>\n",
       "      <td>0</td>\n",
       "      <td>0</td>\n",
       "      <td>1</td>\n",
       "      <td>1</td>\n",
       "      <td>0</td>\n",
       "      <td>0</td>\n",
       "    </tr>\n",
       "    <tr>\n",
       "      <th>4</th>\n",
       "      <td>4</td>\n",
       "      <td>2016-06-24 00:00:00</td>\n",
       "      <td>23</td>\n",
       "      <td>1.0</td>\n",
       "      <td>NaN</td>\n",
       "      <td>Stones</td>\n",
       "      <td>London planetree</td>\n",
       "      <td>Platanus x acerifolia</td>\n",
       "      <td>MN03</td>\n",
       "      <td>Central Harlem North-Polo Grounds</td>\n",
       "      <td>...</td>\n",
       "      <td>0</td>\n",
       "      <td>0</td>\n",
       "      <td>1</td>\n",
       "      <td>0</td>\n",
       "      <td>1</td>\n",
       "      <td>0</td>\n",
       "      <td>1</td>\n",
       "      <td>0</td>\n",
       "      <td>0</td>\n",
       "      <td>1</td>\n",
       "    </tr>\n",
       "  </tbody>\n",
       "</table>\n",
       "<p>5 rows × 28 columns</p>\n",
       "</div>"
      ],
      "text/plain": [
       "   Unnamed: 0           created_at  tree_dbh  health steward  \\\n",
       "0           0  2015-06-29 00:00:00        14     1.0     NaN   \n",
       "1           1  2016-09-21 00:00:00         5     1.0    3or4   \n",
       "2           2  2015-09-13 00:00:00        26     2.0     NaN   \n",
       "3           3  2016-05-09 00:00:00        15     0.0     NaN   \n",
       "4           4  2016-06-24 00:00:00        23     1.0     NaN   \n",
       "\n",
       "             problems          spc_common                           spc_latin  \\\n",
       "0                 NaN         English oak                       Quercus robur   \n",
       "1                 NaN  crimson king maple     Acer platanoides 'Crimson King'   \n",
       "2  StonesBranchLights         English oak                       Quercus robur   \n",
       "3                 NaN         honeylocust  Gleditsia triacanthos var. inermis   \n",
       "4              Stones    London planetree               Platanus x acerifolia   \n",
       "\n",
       "    nta                                    nta_name  ...  guards_Harmful  \\\n",
       "0  QN45        Douglas Manor-Douglaston-Little Neck  ...               0   \n",
       "1  BX05                  Bedford Park-Fordham North  ...               0   \n",
       "2  SI01  Annadale-Huguenot-Prince's Bay-Eltingville  ...               0   \n",
       "3  SI11      Charleston-Richmond Valley-Tottenville  ...               0   \n",
       "4  MN03           Central Harlem North-Polo Grounds  ...               0   \n",
       "\n",
       "   guards_Helpful guards_Unsure sidewalk_Damage  sidewalk_NoDamage  \\\n",
       "0               0             1               1                  0   \n",
       "1               1             0               0                  1   \n",
       "2               0             1               0                  1   \n",
       "3               0             1               1                  0   \n",
       "4               0             1               0                  1   \n",
       "\n",
       "   curb_loc_OffsetFromCurb  curb_loc_OnCurb  user_type_NYC Parks Staff  \\\n",
       "0                        0                1                          0   \n",
       "1                        0                1                          0   \n",
       "2                        0                1                          0   \n",
       "3                        0                1                          1   \n",
       "4                        0                1                          0   \n",
       "\n",
       "   user_type_TreesCount Staff  user_type_Volunteer  \n",
       "0                           0                    1  \n",
       "1                           0                    1  \n",
       "2                           0                    1  \n",
       "3                           0                    0  \n",
       "4                           0                    1  \n",
       "\n",
       "[5 rows x 28 columns]"
      ]
     },
     "execution_count": 13,
     "metadata": {},
     "output_type": "execute_result"
    }
   ],
   "source": [
    "data_all.head()"
   ]
  },
  {
   "cell_type": "code",
   "execution_count": 14,
   "metadata": {},
   "outputs": [],
   "source": [
    "data_all[\"created_at\"] = pd.to_datetime(data_all[\"created_at\"])"
   ]
  },
  {
   "cell_type": "code",
   "execution_count": 15,
   "metadata": {},
   "outputs": [
    {
     "name": "stdout",
     "output_type": "stream",
     "text": [
      "<class 'pandas.core.frame.DataFrame'>\n",
      "RangeIndex: 39686 entries, 0 to 39685\n",
      "Data columns (total 28 columns):\n",
      " #   Column                      Non-Null Count  Dtype         \n",
      "---  ------                      --------------  -----         \n",
      " 0   Unnamed: 0                  39686 non-null  int64         \n",
      " 1   created_at                  39686 non-null  datetime64[ns]\n",
      " 2   tree_dbh                    39686 non-null  int64         \n",
      " 3   health                      19984 non-null  float64       \n",
      " 4   steward                     10277 non-null  object        \n",
      " 5   problems                    15398 non-null  object        \n",
      " 6   spc_common                  39686 non-null  object        \n",
      " 7   spc_latin                   39686 non-null  object        \n",
      " 8   nta                         39686 non-null  object        \n",
      " 9   nta_name                    39686 non-null  object        \n",
      " 10  borocode                    39686 non-null  int64         \n",
      " 11  boro_ct                     39686 non-null  int64         \n",
      " 12  boroname                    39686 non-null  object        \n",
      " 13  zip_city                    39686 non-null  object        \n",
      " 14  cb_num                      39686 non-null  int64         \n",
      " 15  st_senate                   39686 non-null  int64         \n",
      " 16  st_assem                    39686 non-null  int64         \n",
      " 17  cncldist                    39686 non-null  int64         \n",
      " 18  guards_Harmful              39686 non-null  int64         \n",
      " 19  guards_Helpful              39686 non-null  int64         \n",
      " 20  guards_Unsure               39686 non-null  int64         \n",
      " 21  sidewalk_Damage             39686 non-null  int64         \n",
      " 22  sidewalk_NoDamage           39686 non-null  int64         \n",
      " 23  curb_loc_OffsetFromCurb     39686 non-null  int64         \n",
      " 24  curb_loc_OnCurb             39686 non-null  int64         \n",
      " 25  user_type_NYC Parks Staff   39686 non-null  int64         \n",
      " 26  user_type_TreesCount Staff  39686 non-null  int64         \n",
      " 27  user_type_Volunteer         39686 non-null  int64         \n",
      "dtypes: datetime64[ns](1), float64(1), int64(18), object(8)\n",
      "memory usage: 8.5+ MB\n"
     ]
    }
   ],
   "source": [
    "data_all.info()"
   ]
  },
  {
   "cell_type": "code",
   "execution_count": 16,
   "metadata": {},
   "outputs": [
    {
     "data": {
      "text/plain": [
       "steward\n",
       "1or2       8164\n",
       "3or4       2068\n",
       "4orMore      45\n",
       "Name: count, dtype: int64"
      ]
     },
     "execution_count": 16,
     "metadata": {},
     "output_type": "execute_result"
    }
   ],
   "source": [
    "data_all[\"steward\"].value_counts()"
   ]
  },
  {
   "cell_type": "code",
   "execution_count": 17,
   "metadata": {},
   "outputs": [
    {
     "data": {
      "text/plain": [
       "steward\n",
       "1or2       3999\n",
       "3or4       1079\n",
       "4orMore      23\n",
       "Name: count, dtype: int64"
      ]
     },
     "execution_count": 17,
     "metadata": {},
     "output_type": "execute_result"
    }
   ],
   "source": [
    "train[\"steward\"].value_counts()"
   ]
  },
  {
   "cell_type": "code",
   "execution_count": 18,
   "metadata": {},
   "outputs": [
    {
     "data": {
      "text/plain": [
       "problems\n",
       "Stones                                  4455\n",
       "BranchLights                            2045\n",
       "StonesBranchLights                      1529\n",
       "BranchOther                              793\n",
       "RootOther                                717\n",
       "                                        ... \n",
       "StonesTrunkLightsBranchLights             15\n",
       "StonesRootOtherTrunkOtherBranchOther      15\n",
       "RootOtherWiresRopeTrunkLights             12\n",
       "TrunkLightsBranchLightsBranchOther        12\n",
       "WiresRopeTrunkLightsBranchLights           9\n",
       "Name: count, Length: 73, dtype: int64"
      ]
     },
     "execution_count": 18,
     "metadata": {},
     "output_type": "execute_result"
    }
   ],
   "source": [
    "data_all[\"problems\"].value_counts()"
   ]
  },
  {
   "cell_type": "code",
   "execution_count": 19,
   "metadata": {},
   "outputs": [
    {
     "data": {
      "text/plain": [
       "problems\n",
       "Stones                                  2219\n",
       "BranchLights                            1036\n",
       "StonesBranchLights                       762\n",
       "BranchOther                              408\n",
       "RootOther                                333\n",
       "                                        ... \n",
       "StonesRootOtherTrunkOtherBranchOther       8\n",
       "StonesRootOtherWiresRopeBranchOther        5\n",
       "StonesMetalGratesTrunkOther                4\n",
       "TrunkLightsBranchLightsBranchOther         4\n",
       "WiresRopeTrunkLightsBranchLights           4\n",
       "Name: count, Length: 73, dtype: int64"
      ]
     },
     "execution_count": 19,
     "metadata": {},
     "output_type": "execute_result"
    }
   ],
   "source": [
    "train[\"problems\"].value_counts()"
   ]
  },
  {
   "cell_type": "code",
   "execution_count": 121,
   "metadata": {},
   "outputs": [],
   "source": [
    "#stwardとproblemsは最頻値\n",
    "data_all[\"steward\"] = data_all[\"steward\"].fillna(data_all[\"steward\"].mode()[0])\n",
    "data_all[\"problems\"] = data_all[\"problems\"].fillna(data_all[\"problems\"].mode()[0])"
   ]
  },
  {
   "cell_type": "code",
   "execution_count": 122,
   "metadata": {},
   "outputs": [
    {
     "name": "stdout",
     "output_type": "stream",
     "text": [
      "<class 'pandas.core.frame.DataFrame'>\n",
      "RangeIndex: 39686 entries, 0 to 39685\n",
      "Data columns (total 28 columns):\n",
      " #   Column                      Non-Null Count  Dtype         \n",
      "---  ------                      --------------  -----         \n",
      " 0   Unnamed: 0                  39686 non-null  int64         \n",
      " 1   created_at                  39686 non-null  datetime64[ns]\n",
      " 2   tree_dbh                    39686 non-null  int64         \n",
      " 3   health                      19984 non-null  float64       \n",
      " 4   steward                     39686 non-null  object        \n",
      " 5   problems                    39686 non-null  object        \n",
      " 6   spc_common                  39686 non-null  object        \n",
      " 7   spc_latin                   39686 non-null  object        \n",
      " 8   nta                         39686 non-null  object        \n",
      " 9   nta_name                    39686 non-null  object        \n",
      " 10  borocode                    39686 non-null  int64         \n",
      " 11  boro_ct                     39686 non-null  int64         \n",
      " 12  boroname                    39686 non-null  object        \n",
      " 13  zip_city                    39686 non-null  object        \n",
      " 14  cb_num                      39686 non-null  int64         \n",
      " 15  st_senate                   39686 non-null  int64         \n",
      " 16  st_assem                    39686 non-null  int64         \n",
      " 17  cncldist                    39686 non-null  int64         \n",
      " 18  guards_Harmful              39686 non-null  int64         \n",
      " 19  guards_Helpful              39686 non-null  int64         \n",
      " 20  guards_Unsure               39686 non-null  int64         \n",
      " 21  sidewalk_Damage             39686 non-null  int64         \n",
      " 22  sidewalk_NoDamage           39686 non-null  int64         \n",
      " 23  curb_loc_OffsetFromCurb     39686 non-null  int64         \n",
      " 24  curb_loc_OnCurb             39686 non-null  int64         \n",
      " 25  user_type_NYC Parks Staff   39686 non-null  int64         \n",
      " 26  user_type_TreesCount Staff  39686 non-null  int64         \n",
      " 27  user_type_Volunteer         39686 non-null  int64         \n",
      "dtypes: datetime64[ns](1), float64(1), int64(18), object(8)\n",
      "memory usage: 8.5+ MB\n"
     ]
    }
   ],
   "source": [
    "data_all.info()"
   ]
  },
  {
   "cell_type": "code",
   "execution_count": 123,
   "metadata": {},
   "outputs": [
    {
     "data": {
      "text/plain": [
       "nta\n",
       "SI54    718\n",
       "SI11    678\n",
       "BK82    632\n",
       "BK45    622\n",
       "SI01    616\n",
       "       ... \n",
       "QN68      7\n",
       "MN17      7\n",
       "MN21      5\n",
       "BK27      2\n",
       "MN20      1\n",
       "Name: count, Length: 187, dtype: int64"
      ]
     },
     "execution_count": 123,
     "metadata": {},
     "output_type": "execute_result"
    }
   ],
   "source": [
    "data_all[\"nta\"].value_counts()"
   ]
  },
  {
   "cell_type": "code",
   "execution_count": 124,
   "metadata": {},
   "outputs": [],
   "source": [
    "# s = 'abcde'\n",
    "# print(s[:3])\n",
    "# abc"
   ]
  },
  {
   "cell_type": "code",
   "execution_count": 125,
   "metadata": {},
   "outputs": [],
   "source": [
    "data_all[\"re_nta\"]  = data_all[\"nta\"].str[:2]"
   ]
  },
  {
   "cell_type": "code",
   "execution_count": 126,
   "metadata": {},
   "outputs": [
    {
     "data": {
      "text/plain": [
       "re_nta\n",
       "QN    13234\n",
       "BK    10159\n",
       "SI     7292\n",
       "MN     4522\n",
       "BX     4479\n",
       "Name: count, dtype: int64"
      ]
     },
     "execution_count": 126,
     "metadata": {},
     "output_type": "execute_result"
    }
   ],
   "source": [
    "data_all[\"re_nta\"].value_counts()"
   ]
  },
  {
   "cell_type": "code",
   "execution_count": 127,
   "metadata": {},
   "outputs": [],
   "source": [
    "data_all = data_all.drop([\"nta\", \"nta_name\"], axis=1)"
   ]
  },
  {
   "cell_type": "code",
   "execution_count": 128,
   "metadata": {},
   "outputs": [],
   "source": [
    "data_all = pd.get_dummies(data_all, columns=['re_nta'], drop_first=False, dtype = int)"
   ]
  },
  {
   "cell_type": "code",
   "execution_count": 129,
   "metadata": {},
   "outputs": [
    {
     "name": "stdout",
     "output_type": "stream",
     "text": [
      "<class 'pandas.core.frame.DataFrame'>\n",
      "RangeIndex: 39686 entries, 0 to 39685\n",
      "Data columns (total 31 columns):\n",
      " #   Column                      Non-Null Count  Dtype         \n",
      "---  ------                      --------------  -----         \n",
      " 0   Unnamed: 0                  39686 non-null  int64         \n",
      " 1   created_at                  39686 non-null  datetime64[ns]\n",
      " 2   tree_dbh                    39686 non-null  int64         \n",
      " 3   health                      19984 non-null  float64       \n",
      " 4   steward                     39686 non-null  object        \n",
      " 5   problems                    39686 non-null  object        \n",
      " 6   spc_common                  39686 non-null  object        \n",
      " 7   spc_latin                   39686 non-null  object        \n",
      " 8   borocode                    39686 non-null  int64         \n",
      " 9   boro_ct                     39686 non-null  int64         \n",
      " 10  boroname                    39686 non-null  object        \n",
      " 11  zip_city                    39686 non-null  object        \n",
      " 12  cb_num                      39686 non-null  int64         \n",
      " 13  st_senate                   39686 non-null  int64         \n",
      " 14  st_assem                    39686 non-null  int64         \n",
      " 15  cncldist                    39686 non-null  int64         \n",
      " 16  guards_Harmful              39686 non-null  int64         \n",
      " 17  guards_Helpful              39686 non-null  int64         \n",
      " 18  guards_Unsure               39686 non-null  int64         \n",
      " 19  sidewalk_Damage             39686 non-null  int64         \n",
      " 20  sidewalk_NoDamage           39686 non-null  int64         \n",
      " 21  curb_loc_OffsetFromCurb     39686 non-null  int64         \n",
      " 22  curb_loc_OnCurb             39686 non-null  int64         \n",
      " 23  user_type_NYC Parks Staff   39686 non-null  int64         \n",
      " 24  user_type_TreesCount Staff  39686 non-null  int64         \n",
      " 25  user_type_Volunteer         39686 non-null  int64         \n",
      " 26  re_nta_BK                   39686 non-null  int64         \n",
      " 27  re_nta_BX                   39686 non-null  int64         \n",
      " 28  re_nta_MN                   39686 non-null  int64         \n",
      " 29  re_nta_QN                   39686 non-null  int64         \n",
      " 30  re_nta_SI                   39686 non-null  int64         \n",
      "dtypes: datetime64[ns](1), float64(1), int64(23), object(6)\n",
      "memory usage: 9.4+ MB\n"
     ]
    }
   ],
   "source": [
    "data_all.info()"
   ]
  },
  {
   "cell_type": "code",
   "execution_count": 130,
   "metadata": {},
   "outputs": [
    {
     "data": {
      "text/plain": [
       "spc_common\n",
       "London planetree       4339\n",
       "pin oak                4254\n",
       "cherry                 3345\n",
       "Japanese zelkova       3016\n",
       "littleleaf linden      2598\n",
       "                       ... \n",
       "European beech            6\n",
       "Kentucky yellowwood       5\n",
       "pond cypress              3\n",
       "Chinese chestnut          3\n",
       "Himalayan cedar           1\n",
       "Name: count, Length: 120, dtype: int64"
      ]
     },
     "execution_count": 130,
     "metadata": {},
     "output_type": "execute_result"
    }
   ],
   "source": [
    "data_all[\"spc_common\"].value_counts()"
   ]
  },
  {
   "cell_type": "code",
   "execution_count": 131,
   "metadata": {},
   "outputs": [
    {
     "data": {
      "text/plain": [
       "spc_latin\n",
       "Platanus x acerifolia    4339\n",
       "Quercus palustris        4254\n",
       "Prunus                   3345\n",
       "Zelkova serrata          3016\n",
       "Tilia cordata            2598\n",
       "                         ... \n",
       "Fagus sylvatica             6\n",
       "Cladrastis kentukea         5\n",
       "Taxodium ascendens          3\n",
       "Castanea mollissima         3\n",
       "Cedrus deodara              1\n",
       "Name: count, Length: 120, dtype: int64"
      ]
     },
     "execution_count": 131,
     "metadata": {},
     "output_type": "execute_result"
    }
   ],
   "source": [
    "data_all[\"spc_latin\"].value_counts()"
   ]
  },
  {
   "cell_type": "code",
   "execution_count": 132,
   "metadata": {},
   "outputs": [
    {
     "data": {
      "text/plain": [
       "boroname\n",
       "Queens           13234\n",
       "Brooklyn         10159\n",
       "Staten Island     7292\n",
       "Manhattan         4522\n",
       "Bronx             4479\n",
       "Name: count, dtype: int64"
      ]
     },
     "execution_count": 132,
     "metadata": {},
     "output_type": "execute_result"
    }
   ],
   "source": [
    "data_all[\"boroname\"].value_counts()"
   ]
  },
  {
   "cell_type": "code",
   "execution_count": 133,
   "metadata": {},
   "outputs": [],
   "source": [
    "# #re_nta\n",
    "# QN    13234\n",
    "# BK    10159\n",
    "# SI     7292\n",
    "# MN     4522\n",
    "# BX     4479\n",
    "# Name: count, dtype: int64"
   ]
  },
  {
   "cell_type": "code",
   "execution_count": 134,
   "metadata": {},
   "outputs": [],
   "source": [
    "#boronameもre_ntaと同じため、削除する\n",
    "data_all = data_all.drop([\"boroname\"], axis=1)"
   ]
  },
  {
   "cell_type": "code",
   "execution_count": 135,
   "metadata": {},
   "outputs": [
    {
     "data": {
      "text/plain": [
       "borocode\n",
       "4    13234\n",
       "3    10159\n",
       "5     7292\n",
       "1     4522\n",
       "2     4479\n",
       "Name: count, dtype: int64"
      ]
     },
     "execution_count": 135,
     "metadata": {},
     "output_type": "execute_result"
    }
   ],
   "source": [
    "data_all[\"borocode\"].value_counts()"
   ]
  },
  {
   "cell_type": "code",
   "execution_count": 136,
   "metadata": {},
   "outputs": [],
   "source": [
    "data_all = data_all.drop([\"re_nta_QN\", \"re_nta_BK\", \"re_nta_SI\", \"re_nta_MN\", \"re_nta_BX\"], axis=1)"
   ]
  },
  {
   "cell_type": "code",
   "execution_count": 137,
   "metadata": {},
   "outputs": [
    {
     "name": "stdout",
     "output_type": "stream",
     "text": [
      "<class 'pandas.core.frame.DataFrame'>\n",
      "RangeIndex: 39686 entries, 0 to 39685\n",
      "Data columns (total 25 columns):\n",
      " #   Column                      Non-Null Count  Dtype         \n",
      "---  ------                      --------------  -----         \n",
      " 0   Unnamed: 0                  39686 non-null  int64         \n",
      " 1   created_at                  39686 non-null  datetime64[ns]\n",
      " 2   tree_dbh                    39686 non-null  int64         \n",
      " 3   health                      19984 non-null  float64       \n",
      " 4   steward                     39686 non-null  object        \n",
      " 5   problems                    39686 non-null  object        \n",
      " 6   spc_common                  39686 non-null  object        \n",
      " 7   spc_latin                   39686 non-null  object        \n",
      " 8   borocode                    39686 non-null  int64         \n",
      " 9   boro_ct                     39686 non-null  int64         \n",
      " 10  zip_city                    39686 non-null  object        \n",
      " 11  cb_num                      39686 non-null  int64         \n",
      " 12  st_senate                   39686 non-null  int64         \n",
      " 13  st_assem                    39686 non-null  int64         \n",
      " 14  cncldist                    39686 non-null  int64         \n",
      " 15  guards_Harmful              39686 non-null  int64         \n",
      " 16  guards_Helpful              39686 non-null  int64         \n",
      " 17  guards_Unsure               39686 non-null  int64         \n",
      " 18  sidewalk_Damage             39686 non-null  int64         \n",
      " 19  sidewalk_NoDamage           39686 non-null  int64         \n",
      " 20  curb_loc_OffsetFromCurb     39686 non-null  int64         \n",
      " 21  curb_loc_OnCurb             39686 non-null  int64         \n",
      " 22  user_type_NYC Parks Staff   39686 non-null  int64         \n",
      " 23  user_type_TreesCount Staff  39686 non-null  int64         \n",
      " 24  user_type_Volunteer         39686 non-null  int64         \n",
      "dtypes: datetime64[ns](1), float64(1), int64(18), object(5)\n",
      "memory usage: 7.6+ MB\n"
     ]
    }
   ],
   "source": [
    "data_all.info()"
   ]
  },
  {
   "cell_type": "code",
   "execution_count": 138,
   "metadata": {},
   "outputs": [],
   "source": [
    "data_all = data_all.drop([\"zip_city\"], axis=1)"
   ]
  },
  {
   "cell_type": "code",
   "execution_count": 139,
   "metadata": {},
   "outputs": [],
   "source": [
    "data_all = data_all.drop([\"cb_num\", \"st_senate\", \"st_assem\", \"cncldist\"], axis=1)"
   ]
  },
  {
   "cell_type": "code",
   "execution_count": 140,
   "metadata": {},
   "outputs": [],
   "source": [
    "data_all = pd.get_dummies(data_all, columns=['steward'], drop_first=False, dtype = int)"
   ]
  },
  {
   "cell_type": "code",
   "execution_count": 141,
   "metadata": {},
   "outputs": [
    {
     "name": "stdout",
     "output_type": "stream",
     "text": [
      "<class 'pandas.core.frame.DataFrame'>\n",
      "RangeIndex: 39686 entries, 0 to 39685\n",
      "Data columns (total 22 columns):\n",
      " #   Column                      Non-Null Count  Dtype         \n",
      "---  ------                      --------------  -----         \n",
      " 0   Unnamed: 0                  39686 non-null  int64         \n",
      " 1   created_at                  39686 non-null  datetime64[ns]\n",
      " 2   tree_dbh                    39686 non-null  int64         \n",
      " 3   health                      19984 non-null  float64       \n",
      " 4   problems                    39686 non-null  object        \n",
      " 5   spc_common                  39686 non-null  object        \n",
      " 6   spc_latin                   39686 non-null  object        \n",
      " 7   borocode                    39686 non-null  int64         \n",
      " 8   boro_ct                     39686 non-null  int64         \n",
      " 9   guards_Harmful              39686 non-null  int64         \n",
      " 10  guards_Helpful              39686 non-null  int64         \n",
      " 11  guards_Unsure               39686 non-null  int64         \n",
      " 12  sidewalk_Damage             39686 non-null  int64         \n",
      " 13  sidewalk_NoDamage           39686 non-null  int64         \n",
      " 14  curb_loc_OffsetFromCurb     39686 non-null  int64         \n",
      " 15  curb_loc_OnCurb             39686 non-null  int64         \n",
      " 16  user_type_NYC Parks Staff   39686 non-null  int64         \n",
      " 17  user_type_TreesCount Staff  39686 non-null  int64         \n",
      " 18  user_type_Volunteer         39686 non-null  int64         \n",
      " 19  steward_1or2                39686 non-null  int64         \n",
      " 20  steward_3or4                39686 non-null  int64         \n",
      " 21  steward_4orMore             39686 non-null  int64         \n",
      "dtypes: datetime64[ns](1), float64(1), int64(17), object(3)\n",
      "memory usage: 6.7+ MB\n"
     ]
    }
   ],
   "source": [
    "data_all.info()"
   ]
  },
  {
   "cell_type": "code",
   "execution_count": 142,
   "metadata": {},
   "outputs": [
    {
     "data": {
      "text/plain": [
       "problems\n",
       "Stones                                  28743\n",
       "BranchLights                             2045\n",
       "StonesBranchLights                       1529\n",
       "BranchOther                               793\n",
       "RootOther                                 717\n",
       "                                        ...  \n",
       "StonesTrunkLightsBranchLights              15\n",
       "StonesRootOtherTrunkOtherBranchOther       15\n",
       "RootOtherWiresRopeTrunkLights              12\n",
       "TrunkLightsBranchLightsBranchOther         12\n",
       "WiresRopeTrunkLightsBranchLights            9\n",
       "Name: count, Length: 73, dtype: int64"
      ]
     },
     "execution_count": 142,
     "metadata": {},
     "output_type": "execute_result"
    }
   ],
   "source": [
    "data_all[\"problems\"].value_counts()"
   ]
  },
  {
   "cell_type": "code",
   "execution_count": 143,
   "metadata": {},
   "outputs": [],
   "source": [
    "data_without_NAME = data_all.drop([\"spc_common\", \"spc_latin\"], axis=1)\n",
    "data_without_NAME = pd.get_dummies(data_without_NAME, columns=['problems'], drop_first=False, dtype = int)"
   ]
  },
  {
   "cell_type": "code",
   "execution_count": 144,
   "metadata": {},
   "outputs": [
    {
     "name": "stdout",
     "output_type": "stream",
     "text": [
      "<class 'pandas.core.frame.DataFrame'>\n",
      "RangeIndex: 39686 entries, 0 to 39685\n",
      "Data columns (total 92 columns):\n",
      " #   Column                                                              Non-Null Count  Dtype         \n",
      "---  ------                                                              --------------  -----         \n",
      " 0   Unnamed: 0                                                          39686 non-null  int64         \n",
      " 1   created_at                                                          39686 non-null  datetime64[ns]\n",
      " 2   tree_dbh                                                            39686 non-null  int64         \n",
      " 3   health                                                              19984 non-null  float64       \n",
      " 4   borocode                                                            39686 non-null  int64         \n",
      " 5   boro_ct                                                             39686 non-null  int64         \n",
      " 6   guards_Harmful                                                      39686 non-null  int64         \n",
      " 7   guards_Helpful                                                      39686 non-null  int64         \n",
      " 8   guards_Unsure                                                       39686 non-null  int64         \n",
      " 9   sidewalk_Damage                                                     39686 non-null  int64         \n",
      " 10  sidewalk_NoDamage                                                   39686 non-null  int64         \n",
      " 11  curb_loc_OffsetFromCurb                                             39686 non-null  int64         \n",
      " 12  curb_loc_OnCurb                                                     39686 non-null  int64         \n",
      " 13  user_type_NYC Parks Staff                                           39686 non-null  int64         \n",
      " 14  user_type_TreesCount Staff                                          39686 non-null  int64         \n",
      " 15  user_type_Volunteer                                                 39686 non-null  int64         \n",
      " 16  steward_1or2                                                        39686 non-null  int64         \n",
      " 17  steward_3or4                                                        39686 non-null  int64         \n",
      " 18  steward_4orMore                                                     39686 non-null  int64         \n",
      " 19  problems_BranchLights                                               39686 non-null  int64         \n",
      " 20  problems_BranchLightsBranchOther                                    39686 non-null  int64         \n",
      " 21  problems_BranchOther                                                39686 non-null  int64         \n",
      " 22  problems_MetalGrates                                                39686 non-null  int64         \n",
      " 23  problems_MetalGratesBranchOther                                     39686 non-null  int64         \n",
      " 24  problems_MetalGratesRootOtherBranchOther                            39686 non-null  int64         \n",
      " 25  problems_MetalGratesRootOtherTrunkOther                             39686 non-null  int64         \n",
      " 26  problems_MetalGratesTrunkOther                                      39686 non-null  int64         \n",
      " 27  problems_MetalGratesTrunkOtherBranchOther                           39686 non-null  int64         \n",
      " 28  problems_MetalGratesWiresRope                                       39686 non-null  int64         \n",
      " 29  problems_RootOther                                                  39686 non-null  int64         \n",
      " 30  problems_RootOtherBranchLights                                      39686 non-null  int64         \n",
      " 31  problems_RootOtherBranchLightsBranchOther                           39686 non-null  int64         \n",
      " 32  problems_RootOtherBranchOther                                       39686 non-null  int64         \n",
      " 33  problems_RootOtherTrunkLightsBranchOther                            39686 non-null  int64         \n",
      " 34  problems_RootOtherTrunkOther                                        39686 non-null  int64         \n",
      " 35  problems_RootOtherTrunkOtherBranchLights                            39686 non-null  int64         \n",
      " 36  problems_RootOtherTrunkOtherBranchLightsBranchOther                 39686 non-null  int64         \n",
      " 37  problems_RootOtherTrunkOtherBranchOther                             39686 non-null  int64         \n",
      " 38  problems_RootOtherWiresRope                                         39686 non-null  int64         \n",
      " 39  problems_RootOtherWiresRopeBranchLights                             39686 non-null  int64         \n",
      " 40  problems_RootOtherWiresRopeBranchLightsBranchOther                  39686 non-null  int64         \n",
      " 41  problems_RootOtherWiresRopeBranchOther                              39686 non-null  int64         \n",
      " 42  problems_RootOtherWiresRopeTrunkLights                              39686 non-null  int64         \n",
      " 43  problems_RootOtherWiresRopeTrunkOther                               39686 non-null  int64         \n",
      " 44  problems_RootOtherWiresRopeTrunkOtherBranchLights                   39686 non-null  int64         \n",
      " 45  problems_RootOtherWiresRopeTrunkOtherBranchOther                    39686 non-null  int64         \n",
      " 46  problems_Stones                                                     39686 non-null  int64         \n",
      " 47  problems_StonesBranchLights                                         39686 non-null  int64         \n",
      " 48  problems_StonesBranchLightsBranchOther                              39686 non-null  int64         \n",
      " 49  problems_StonesBranchOther                                          39686 non-null  int64         \n",
      " 50  problems_StonesMetalGrates                                          39686 non-null  int64         \n",
      " 51  problems_StonesMetalGratesBranchLights                              39686 non-null  int64         \n",
      " 52  problems_StonesMetalGratesTrunkOther                                39686 non-null  int64         \n",
      " 53  problems_StonesMetalGratesWiresRopeTrunkLightsBranchLights          39686 non-null  int64         \n",
      " 54  problems_StonesRootOther                                            39686 non-null  int64         \n",
      " 55  problems_StonesRootOtherBranchLights                                39686 non-null  int64         \n",
      " 56  problems_StonesRootOtherBranchLightsBranchOther                     39686 non-null  int64         \n",
      " 57  problems_StonesRootOtherBranchOther                                 39686 non-null  int64         \n",
      " 58  problems_StonesRootOtherTrunkOther                                  39686 non-null  int64         \n",
      " 59  problems_StonesRootOtherTrunkOtherBranchLights                      39686 non-null  int64         \n",
      " 60  problems_StonesRootOtherTrunkOtherBranchOther                       39686 non-null  int64         \n",
      " 61  problems_StonesRootOtherWiresRopeBranchLights                       39686 non-null  int64         \n",
      " 62  problems_StonesRootOtherWiresRopeBranchOther                        39686 non-null  int64         \n",
      " 63  problems_StonesRootOtherWiresRopeTrunkOtherBranchLightsBranchOther  39686 non-null  int64         \n",
      " 64  problems_StonesSneakers                                             39686 non-null  int64         \n",
      " 65  problems_StonesTrunkLightsBranchLights                              39686 non-null  int64         \n",
      " 66  problems_StonesTrunkOther                                           39686 non-null  int64         \n",
      " 67  problems_StonesTrunkOtherBranchLights                               39686 non-null  int64         \n",
      " 68  problems_StonesTrunkOtherBranchLightsBranchOther                    39686 non-null  int64         \n",
      " 69  problems_StonesTrunkOtherBranchOther                                39686 non-null  int64         \n",
      " 70  problems_StonesWiresRope                                            39686 non-null  int64         \n",
      " 71  problems_StonesWiresRopeBranchLights                                39686 non-null  int64         \n",
      " 72  problems_StonesWiresRopeBranchLightsBranchOther                     39686 non-null  int64         \n",
      " 73  problems_StonesWiresRopeBranchOther                                 39686 non-null  int64         \n",
      " 74  problems_StonesWiresRopeTrunkLightsBranchLights                     39686 non-null  int64         \n",
      " 75  problems_StonesWiresRopeTrunkOther                                  39686 non-null  int64         \n",
      " 76  problems_StonesWiresRopeTrunkOtherBranchLights                      39686 non-null  int64         \n",
      " 77  problems_TrunkLights                                                39686 non-null  int64         \n",
      " 78  problems_TrunkLightsBranchLights                                    39686 non-null  int64         \n",
      " 79  problems_TrunkLightsBranchLightsBranchOther                         39686 non-null  int64         \n",
      " 80  problems_TrunkOther                                                 39686 non-null  int64         \n",
      " 81  problems_TrunkOtherBranchLights                                     39686 non-null  int64         \n",
      " 82  problems_TrunkOtherBranchLightsBranchOther                          39686 non-null  int64         \n",
      " 83  problems_TrunkOtherBranchOther                                      39686 non-null  int64         \n",
      " 84  problems_WiresRope                                                  39686 non-null  int64         \n",
      " 85  problems_WiresRopeBranchLights                                      39686 non-null  int64         \n",
      " 86  problems_WiresRopeBranchOther                                       39686 non-null  int64         \n",
      " 87  problems_WiresRopeTrunkLights                                       39686 non-null  int64         \n",
      " 88  problems_WiresRopeTrunkLightsBranchLights                           39686 non-null  int64         \n",
      " 89  problems_WiresRopeTrunkOther                                        39686 non-null  int64         \n",
      " 90  problems_WiresRopeTrunkOtherBranchLightsBranchOther                 39686 non-null  int64         \n",
      " 91  problems_WiresRopeTrunkOtherBranchOther                             39686 non-null  int64         \n",
      "dtypes: datetime64[ns](1), float64(1), int64(90)\n",
      "memory usage: 27.9 MB\n"
     ]
    }
   ],
   "source": [
    "data_without_NAME.info()"
   ]
  },
  {
   "cell_type": "code",
   "execution_count": 149,
   "metadata": {},
   "outputs": [],
   "source": [
    "data_without_NAME[\"year\"] = data_without_NAME[\"created_at\"].dt.year\n",
    "data_without_NAME[\"month\"] = data_without_NAME[\"created_at\"].dt.month\n",
    "data_without_NAME = data_without_NAME.drop([\"created_at\"], axis=1)"
   ]
  },
  {
   "cell_type": "code",
   "execution_count": 152,
   "metadata": {},
   "outputs": [],
   "source": [
    "data_without_NAME = data_without_NAME.drop([\"Unnamed: 0\"], axis=1)"
   ]
  },
  {
   "cell_type": "code",
   "execution_count": 153,
   "metadata": {},
   "outputs": [],
   "source": [
    "#trainデータとtestデータに分割\n",
    "data_train = data_without_NAME[:len(train)]\n",
    "data_test = data_without_NAME[len(train):].drop([\"health\"], axis=1)"
   ]
  },
  {
   "cell_type": "code",
   "execution_count": 155,
   "metadata": {},
   "outputs": [
    {
     "data": {
      "text/plain": [
       "year\n",
       "2015    30331\n",
       "2016     9355\n",
       "Name: count, dtype: int64"
      ]
     },
     "execution_count": 155,
     "metadata": {},
     "output_type": "execute_result"
    }
   ],
   "source": [
    "data_without_NAME[\"year\"].value_counts()"
   ]
  },
  {
   "cell_type": "code",
   "execution_count": 156,
   "metadata": {},
   "outputs": [
    {
     "data": {
      "text/html": [
       "<div>\n",
       "<style scoped>\n",
       "    .dataframe tbody tr th:only-of-type {\n",
       "        vertical-align: middle;\n",
       "    }\n",
       "\n",
       "    .dataframe tbody tr th {\n",
       "        vertical-align: top;\n",
       "    }\n",
       "\n",
       "    .dataframe thead th {\n",
       "        text-align: right;\n",
       "    }\n",
       "</style>\n",
       "<table border=\"1\" class=\"dataframe\">\n",
       "  <thead>\n",
       "    <tr style=\"text-align: right;\">\n",
       "      <th></th>\n",
       "      <th>tree_dbh</th>\n",
       "      <th>health</th>\n",
       "      <th>borocode</th>\n",
       "      <th>boro_ct</th>\n",
       "      <th>guards_Harmful</th>\n",
       "      <th>guards_Helpful</th>\n",
       "      <th>guards_Unsure</th>\n",
       "      <th>sidewalk_Damage</th>\n",
       "      <th>sidewalk_NoDamage</th>\n",
       "      <th>curb_loc_OffsetFromCurb</th>\n",
       "      <th>...</th>\n",
       "      <th>problems_WiresRope</th>\n",
       "      <th>problems_WiresRopeBranchLights</th>\n",
       "      <th>problems_WiresRopeBranchOther</th>\n",
       "      <th>problems_WiresRopeTrunkLights</th>\n",
       "      <th>problems_WiresRopeTrunkLightsBranchLights</th>\n",
       "      <th>problems_WiresRopeTrunkOther</th>\n",
       "      <th>problems_WiresRopeTrunkOtherBranchLightsBranchOther</th>\n",
       "      <th>problems_WiresRopeTrunkOtherBranchOther</th>\n",
       "      <th>year</th>\n",
       "      <th>month</th>\n",
       "    </tr>\n",
       "  </thead>\n",
       "  <tbody>\n",
       "    <tr>\n",
       "      <th>0</th>\n",
       "      <td>14</td>\n",
       "      <td>1.0</td>\n",
       "      <td>4</td>\n",
       "      <td>4152901</td>\n",
       "      <td>0</td>\n",
       "      <td>0</td>\n",
       "      <td>1</td>\n",
       "      <td>1</td>\n",
       "      <td>0</td>\n",
       "      <td>0</td>\n",
       "      <td>...</td>\n",
       "      <td>0</td>\n",
       "      <td>0</td>\n",
       "      <td>0</td>\n",
       "      <td>0</td>\n",
       "      <td>0</td>\n",
       "      <td>0</td>\n",
       "      <td>0</td>\n",
       "      <td>0</td>\n",
       "      <td>2015</td>\n",
       "      <td>6</td>\n",
       "    </tr>\n",
       "    <tr>\n",
       "      <th>1</th>\n",
       "      <td>5</td>\n",
       "      <td>1.0</td>\n",
       "      <td>2</td>\n",
       "      <td>2039901</td>\n",
       "      <td>0</td>\n",
       "      <td>1</td>\n",
       "      <td>0</td>\n",
       "      <td>0</td>\n",
       "      <td>1</td>\n",
       "      <td>0</td>\n",
       "      <td>...</td>\n",
       "      <td>0</td>\n",
       "      <td>0</td>\n",
       "      <td>0</td>\n",
       "      <td>0</td>\n",
       "      <td>0</td>\n",
       "      <td>0</td>\n",
       "      <td>0</td>\n",
       "      <td>0</td>\n",
       "      <td>2016</td>\n",
       "      <td>9</td>\n",
       "    </tr>\n",
       "    <tr>\n",
       "      <th>2</th>\n",
       "      <td>26</td>\n",
       "      <td>2.0</td>\n",
       "      <td>5</td>\n",
       "      <td>5017011</td>\n",
       "      <td>0</td>\n",
       "      <td>0</td>\n",
       "      <td>1</td>\n",
       "      <td>0</td>\n",
       "      <td>1</td>\n",
       "      <td>0</td>\n",
       "      <td>...</td>\n",
       "      <td>0</td>\n",
       "      <td>0</td>\n",
       "      <td>0</td>\n",
       "      <td>0</td>\n",
       "      <td>0</td>\n",
       "      <td>0</td>\n",
       "      <td>0</td>\n",
       "      <td>0</td>\n",
       "      <td>2015</td>\n",
       "      <td>9</td>\n",
       "    </tr>\n",
       "    <tr>\n",
       "      <th>3</th>\n",
       "      <td>15</td>\n",
       "      <td>0.0</td>\n",
       "      <td>5</td>\n",
       "      <td>5024401</td>\n",
       "      <td>0</td>\n",
       "      <td>0</td>\n",
       "      <td>1</td>\n",
       "      <td>1</td>\n",
       "      <td>0</td>\n",
       "      <td>0</td>\n",
       "      <td>...</td>\n",
       "      <td>0</td>\n",
       "      <td>0</td>\n",
       "      <td>0</td>\n",
       "      <td>0</td>\n",
       "      <td>0</td>\n",
       "      <td>0</td>\n",
       "      <td>0</td>\n",
       "      <td>0</td>\n",
       "      <td>2016</td>\n",
       "      <td>5</td>\n",
       "    </tr>\n",
       "    <tr>\n",
       "      <th>4</th>\n",
       "      <td>23</td>\n",
       "      <td>1.0</td>\n",
       "      <td>1</td>\n",
       "      <td>1022102</td>\n",
       "      <td>0</td>\n",
       "      <td>0</td>\n",
       "      <td>1</td>\n",
       "      <td>0</td>\n",
       "      <td>1</td>\n",
       "      <td>0</td>\n",
       "      <td>...</td>\n",
       "      <td>0</td>\n",
       "      <td>0</td>\n",
       "      <td>0</td>\n",
       "      <td>0</td>\n",
       "      <td>0</td>\n",
       "      <td>0</td>\n",
       "      <td>0</td>\n",
       "      <td>0</td>\n",
       "      <td>2016</td>\n",
       "      <td>6</td>\n",
       "    </tr>\n",
       "  </tbody>\n",
       "</table>\n",
       "<p>5 rows × 92 columns</p>\n",
       "</div>"
      ],
      "text/plain": [
       "   tree_dbh  health  borocode  boro_ct  guards_Harmful  guards_Helpful  \\\n",
       "0        14     1.0         4  4152901               0               0   \n",
       "1         5     1.0         2  2039901               0               1   \n",
       "2        26     2.0         5  5017011               0               0   \n",
       "3        15     0.0         5  5024401               0               0   \n",
       "4        23     1.0         1  1022102               0               0   \n",
       "\n",
       "   guards_Unsure  sidewalk_Damage  sidewalk_NoDamage  curb_loc_OffsetFromCurb  \\\n",
       "0              1                1                  0                        0   \n",
       "1              0                0                  1                        0   \n",
       "2              1                0                  1                        0   \n",
       "3              1                1                  0                        0   \n",
       "4              1                0                  1                        0   \n",
       "\n",
       "   ...  problems_WiresRope  problems_WiresRopeBranchLights  \\\n",
       "0  ...                   0                               0   \n",
       "1  ...                   0                               0   \n",
       "2  ...                   0                               0   \n",
       "3  ...                   0                               0   \n",
       "4  ...                   0                               0   \n",
       "\n",
       "   problems_WiresRopeBranchOther  problems_WiresRopeTrunkLights  \\\n",
       "0                              0                              0   \n",
       "1                              0                              0   \n",
       "2                              0                              0   \n",
       "3                              0                              0   \n",
       "4                              0                              0   \n",
       "\n",
       "   problems_WiresRopeTrunkLightsBranchLights  problems_WiresRopeTrunkOther  \\\n",
       "0                                          0                             0   \n",
       "1                                          0                             0   \n",
       "2                                          0                             0   \n",
       "3                                          0                             0   \n",
       "4                                          0                             0   \n",
       "\n",
       "   problems_WiresRopeTrunkOtherBranchLightsBranchOther  \\\n",
       "0                                                  0     \n",
       "1                                                  0     \n",
       "2                                                  0     \n",
       "3                                                  0     \n",
       "4                                                  0     \n",
       "\n",
       "   problems_WiresRopeTrunkOtherBranchOther  year  month  \n",
       "0                                        0  2015      6  \n",
       "1                                        0  2016      9  \n",
       "2                                        0  2015      9  \n",
       "3                                        0  2016      5  \n",
       "4                                        0  2016      6  \n",
       "\n",
       "[5 rows x 92 columns]"
      ]
     },
     "execution_count": 156,
     "metadata": {},
     "output_type": "execute_result"
    }
   ],
   "source": [
    "data_train.head()"
   ]
  },
  {
   "cell_type": "code",
   "execution_count": 157,
   "metadata": {},
   "outputs": [],
   "source": [
    "y_train = data_train[\"health\"]\n",
    "X_train = data_train.drop([\"health\"], axis=1)\n",
    "X_test = data_test"
   ]
  },
  {
   "cell_type": "markdown",
   "metadata": {},
   "source": []
  },
  {
   "cell_type": "markdown",
   "metadata": {},
   "source": []
  },
  {
   "cell_type": "code",
   "execution_count": 158,
   "metadata": {},
   "outputs": [],
   "source": [
    "from sklearn.ensemble import RandomForestClassifier\n",
    "\n",
    "#ランダムフォレストのパラメータ指定（デフォルト）\n",
    "clf = RandomForestClassifier()\n",
    "clf.fit(X_train, y_train)\n",
    "y_test = clf.predict(X_test)"
   ]
  },
  {
   "cell_type": "code",
   "execution_count": 159,
   "metadata": {},
   "outputs": [],
   "source": [
    "result = pd.DataFrame({\"Unnamed: 0\": test[\"Unnamed: 0\"], \"health\": y_test})"
   ]
  },
  {
   "cell_type": "code",
   "execution_count": 160,
   "metadata": {},
   "outputs": [
    {
     "data": {
      "text/html": [
       "<div>\n",
       "<style scoped>\n",
       "    .dataframe tbody tr th:only-of-type {\n",
       "        vertical-align: middle;\n",
       "    }\n",
       "\n",
       "    .dataframe tbody tr th {\n",
       "        vertical-align: top;\n",
       "    }\n",
       "\n",
       "    .dataframe thead th {\n",
       "        text-align: right;\n",
       "    }\n",
       "</style>\n",
       "<table border=\"1\" class=\"dataframe\">\n",
       "  <thead>\n",
       "    <tr style=\"text-align: right;\">\n",
       "      <th></th>\n",
       "      <th>Unnamed: 0</th>\n",
       "      <th>health</th>\n",
       "    </tr>\n",
       "  </thead>\n",
       "  <tbody>\n",
       "    <tr>\n",
       "      <th>0</th>\n",
       "      <td>19984</td>\n",
       "      <td>1</td>\n",
       "    </tr>\n",
       "    <tr>\n",
       "      <th>1</th>\n",
       "      <td>19985</td>\n",
       "      <td>1</td>\n",
       "    </tr>\n",
       "    <tr>\n",
       "      <th>2</th>\n",
       "      <td>19986</td>\n",
       "      <td>1</td>\n",
       "    </tr>\n",
       "    <tr>\n",
       "      <th>3</th>\n",
       "      <td>19987</td>\n",
       "      <td>1</td>\n",
       "    </tr>\n",
       "    <tr>\n",
       "      <th>4</th>\n",
       "      <td>19988</td>\n",
       "      <td>1</td>\n",
       "    </tr>\n",
       "  </tbody>\n",
       "</table>\n",
       "</div>"
      ],
      "text/plain": [
       "   Unnamed: 0  health\n",
       "0       19984       1\n",
       "1       19985       1\n",
       "2       19986       1\n",
       "3       19987       1\n",
       "4       19988       1"
      ]
     },
     "execution_count": 160,
     "metadata": {},
     "output_type": "execute_result"
    }
   ],
   "source": [
    "result[\"health\"] = result[\"health\"].astype(int)\n",
    "result.to_csv(\"/SMBC-GREEN-DATA-Challenge/data/submission2.csv\", index=False, header=False)\n",
    "\n",
    "result.head()"
   ]
  },
  {
   "cell_type": "code",
   "execution_count": null,
   "metadata": {},
   "outputs": [],
   "source": []
  }
 ],
 "metadata": {
  "kernelspec": {
   "display_name": "Python 3",
   "language": "python",
   "name": "python3"
  },
  "language_info": {
   "codemirror_mode": {
    "name": "ipython",
    "version": 3
   },
   "file_extension": ".py",
   "mimetype": "text/x-python",
   "name": "python",
   "nbconvert_exporter": "python",
   "pygments_lexer": "ipython3",
   "version": "3.10.12"
  },
  "orig_nbformat": 4
 },
 "nbformat": 4,
 "nbformat_minor": 2
}
