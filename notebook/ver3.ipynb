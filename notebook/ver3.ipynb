{
 "cells": [
  {
   "cell_type": "code",
   "execution_count": 57,
   "metadata": {},
   "outputs": [],
   "source": [
    "import numpy as np\n",
    "import pandas as pd\n",
    "import matplotlib.pyplot as plt\n",
    "import seaborn as sns\n",
    "%matplotlib inline\n",
    "from sklearn.preprocessing import OneHotEncoder"
   ]
  },
  {
   "cell_type": "code",
   "execution_count": 58,
   "metadata": {},
   "outputs": [],
   "source": [
    "test = pd.read_csv('/SMBC-GREEN-DATA-Challenge/data/test-2.csv') \n",
    "train = pd.read_csv('/SMBC-GREEN-DATA-Challenge/data/train-2.csv')"
   ]
  },
  {
   "cell_type": "code",
   "execution_count": 59,
   "metadata": {},
   "outputs": [
    {
     "data": {
      "text/html": [
       "<div>\n",
       "<style scoped>\n",
       "    .dataframe tbody tr th:only-of-type {\n",
       "        vertical-align: middle;\n",
       "    }\n",
       "\n",
       "    .dataframe tbody tr th {\n",
       "        vertical-align: top;\n",
       "    }\n",
       "\n",
       "    .dataframe thead th {\n",
       "        text-align: right;\n",
       "    }\n",
       "</style>\n",
       "<table border=\"1\" class=\"dataframe\">\n",
       "  <thead>\n",
       "    <tr style=\"text-align: right;\">\n",
       "      <th></th>\n",
       "      <th>Unnamed: 0</th>\n",
       "      <th>tree_dbh</th>\n",
       "      <th>borocode</th>\n",
       "      <th>boro_ct</th>\n",
       "      <th>cb_num</th>\n",
       "      <th>st_senate</th>\n",
       "      <th>st_assem</th>\n",
       "      <th>cncldist</th>\n",
       "    </tr>\n",
       "  </thead>\n",
       "  <tbody>\n",
       "    <tr>\n",
       "      <th>count</th>\n",
       "      <td>19702.000000</td>\n",
       "      <td>19702.000000</td>\n",
       "      <td>19702.000000</td>\n",
       "      <td>1.970200e+04</td>\n",
       "      <td>19702.000000</td>\n",
       "      <td>19702.000000</td>\n",
       "      <td>19702.000000</td>\n",
       "      <td>19702.000000</td>\n",
       "    </tr>\n",
       "    <tr>\n",
       "      <th>mean</th>\n",
       "      <td>29982.877677</td>\n",
       "      <td>11.600041</td>\n",
       "      <td>3.360319</td>\n",
       "      <td>3.406002e+06</td>\n",
       "      <td>343.219775</td>\n",
       "      <td>20.992945</td>\n",
       "      <td>51.572581</td>\n",
       "      <td>30.215714</td>\n",
       "    </tr>\n",
       "    <tr>\n",
       "      <th>std</th>\n",
       "      <td>5767.184780</td>\n",
       "      <td>8.206049</td>\n",
       "      <td>1.223202</td>\n",
       "      <td>1.231092e+06</td>\n",
       "      <td>121.434253</td>\n",
       "      <td>7.208765</td>\n",
       "      <td>18.671359</td>\n",
       "      <td>14.721721</td>\n",
       "    </tr>\n",
       "    <tr>\n",
       "      <th>min</th>\n",
       "      <td>19984.000000</td>\n",
       "      <td>1.000000</td>\n",
       "      <td>1.000000</td>\n",
       "      <td>1.000202e+06</td>\n",
       "      <td>101.000000</td>\n",
       "      <td>10.000000</td>\n",
       "      <td>23.000000</td>\n",
       "      <td>1.000000</td>\n",
       "    </tr>\n",
       "    <tr>\n",
       "      <th>25%</th>\n",
       "      <td>24983.250000</td>\n",
       "      <td>5.000000</td>\n",
       "      <td>3.000000</td>\n",
       "      <td>3.006200e+06</td>\n",
       "      <td>302.000000</td>\n",
       "      <td>15.000000</td>\n",
       "      <td>32.000000</td>\n",
       "      <td>19.000000</td>\n",
       "    </tr>\n",
       "    <tr>\n",
       "      <th>50%</th>\n",
       "      <td>29980.500000</td>\n",
       "      <td>8.000000</td>\n",
       "      <td>4.000000</td>\n",
       "      <td>4.012301e+06</td>\n",
       "      <td>402.000000</td>\n",
       "      <td>22.000000</td>\n",
       "      <td>55.000000</td>\n",
       "      <td>31.000000</td>\n",
       "    </tr>\n",
       "    <tr>\n",
       "      <th>75%</th>\n",
       "      <td>34982.750000</td>\n",
       "      <td>17.000000</td>\n",
       "      <td>4.000000</td>\n",
       "      <td>4.115100e+06</td>\n",
       "      <td>413.000000</td>\n",
       "      <td>25.000000</td>\n",
       "      <td>64.000000</td>\n",
       "      <td>44.000000</td>\n",
       "    </tr>\n",
       "    <tr>\n",
       "      <th>max</th>\n",
       "      <td>39968.000000</td>\n",
       "      <td>44.000000</td>\n",
       "      <td>5.000000</td>\n",
       "      <td>5.031902e+06</td>\n",
       "      <td>503.000000</td>\n",
       "      <td>36.000000</td>\n",
       "      <td>87.000000</td>\n",
       "      <td>51.000000</td>\n",
       "    </tr>\n",
       "  </tbody>\n",
       "</table>\n",
       "</div>"
      ],
      "text/plain": [
       "         Unnamed: 0      tree_dbh      borocode       boro_ct        cb_num  \\\n",
       "count  19702.000000  19702.000000  19702.000000  1.970200e+04  19702.000000   \n",
       "mean   29982.877677     11.600041      3.360319  3.406002e+06    343.219775   \n",
       "std     5767.184780      8.206049      1.223202  1.231092e+06    121.434253   \n",
       "min    19984.000000      1.000000      1.000000  1.000202e+06    101.000000   \n",
       "25%    24983.250000      5.000000      3.000000  3.006200e+06    302.000000   \n",
       "50%    29980.500000      8.000000      4.000000  4.012301e+06    402.000000   \n",
       "75%    34982.750000     17.000000      4.000000  4.115100e+06    413.000000   \n",
       "max    39968.000000     44.000000      5.000000  5.031902e+06    503.000000   \n",
       "\n",
       "          st_senate      st_assem      cncldist  \n",
       "count  19702.000000  19702.000000  19702.000000  \n",
       "mean      20.992945     51.572581     30.215714  \n",
       "std        7.208765     18.671359     14.721721  \n",
       "min       10.000000     23.000000      1.000000  \n",
       "25%       15.000000     32.000000     19.000000  \n",
       "50%       22.000000     55.000000     31.000000  \n",
       "75%       25.000000     64.000000     44.000000  \n",
       "max       36.000000     87.000000     51.000000  "
      ]
     },
     "execution_count": 59,
     "metadata": {},
     "output_type": "execute_result"
    }
   ],
   "source": [
    "test.describe()"
   ]
  },
  {
   "cell_type": "code",
   "execution_count": 60,
   "metadata": {},
   "outputs": [],
   "source": [
    "df = pd.concat([train, test], axis=0, sort=False)"
   ]
  },
  {
   "cell_type": "code",
   "execution_count": 61,
   "metadata": {},
   "outputs": [
    {
     "data": {
      "text/plain": [
       "Unnamed: 0        0\n",
       "created_at        0\n",
       "tree_dbh          0\n",
       "curb_loc          0\n",
       "health        19702\n",
       "steward       29409\n",
       "guards        29510\n",
       "sidewalk          0\n",
       "user_type         0\n",
       "problems      24288\n",
       "spc_common        0\n",
       "spc_latin         0\n",
       "nta               0\n",
       "nta_name          0\n",
       "borocode          0\n",
       "boro_ct           0\n",
       "boroname          0\n",
       "zip_city          0\n",
       "cb_num            0\n",
       "st_senate         0\n",
       "st_assem          0\n",
       "cncldist          0\n",
       "dtype: int64"
      ]
     },
     "execution_count": 61,
     "metadata": {},
     "output_type": "execute_result"
    }
   ],
   "source": [
    "df.isnull().sum()"
   ]
  },
  {
   "cell_type": "code",
   "execution_count": 62,
   "metadata": {},
   "outputs": [
    {
     "data": {
      "text/plain": [
       "Unnamed: 0        0\n",
       "created_at        0\n",
       "tree_dbh          0\n",
       "curb_loc          0\n",
       "health            0\n",
       "steward       14883\n",
       "guards        14943\n",
       "sidewalk          0\n",
       "user_type         0\n",
       "problems      12243\n",
       "spc_common        0\n",
       "spc_latin         0\n",
       "nta               0\n",
       "nta_name          0\n",
       "borocode          0\n",
       "boro_ct           0\n",
       "boroname          0\n",
       "zip_city          0\n",
       "cb_num            0\n",
       "st_senate         0\n",
       "st_assem          0\n",
       "cncldist          0\n",
       "dtype: int64"
      ]
     },
     "execution_count": 62,
     "metadata": {},
     "output_type": "execute_result"
    }
   ],
   "source": [
    "train.isnull().sum()"
   ]
  },
  {
   "cell_type": "code",
   "execution_count": 63,
   "metadata": {},
   "outputs": [
    {
     "data": {
      "text/plain": [
       "Unnamed: 0        0\n",
       "created_at        0\n",
       "tree_dbh          0\n",
       "curb_loc          0\n",
       "steward       14526\n",
       "guards        14567\n",
       "sidewalk          0\n",
       "user_type         0\n",
       "problems      12045\n",
       "spc_common        0\n",
       "spc_latin         0\n",
       "nta               0\n",
       "nta_name          0\n",
       "borocode          0\n",
       "boro_ct           0\n",
       "boroname          0\n",
       "zip_city          0\n",
       "cb_num            0\n",
       "st_senate         0\n",
       "st_assem          0\n",
       "cncldist          0\n",
       "dtype: int64"
      ]
     },
     "execution_count": 63,
     "metadata": {},
     "output_type": "execute_result"
    }
   ],
   "source": [
    "test.isnull().sum()"
   ]
  },
  {
   "cell_type": "code",
   "execution_count": 64,
   "metadata": {},
   "outputs": [
    {
     "data": {
      "text/plain": [
       "steward\n",
       "1or2       3999\n",
       "3or4       1079\n",
       "4orMore      23\n",
       "Name: count, dtype: int64"
      ]
     },
     "execution_count": 64,
     "metadata": {},
     "output_type": "execute_result"
    }
   ],
   "source": [
    "train['steward'].value_counts()"
   ]
  },
  {
   "cell_type": "code",
   "execution_count": 65,
   "metadata": {},
   "outputs": [
    {
     "name": "stdout",
     "output_type": "stream",
     "text": [
      "<class 'pandas.core.frame.DataFrame'>\n",
      "RangeIndex: 19984 entries, 0 to 19983\n",
      "Data columns (total 22 columns):\n",
      " #   Column      Non-Null Count  Dtype \n",
      "---  ------      --------------  ----- \n",
      " 0   Unnamed: 0  19984 non-null  int64 \n",
      " 1   created_at  19984 non-null  object\n",
      " 2   tree_dbh    19984 non-null  int64 \n",
      " 3   curb_loc    19984 non-null  object\n",
      " 4   health      19984 non-null  int64 \n",
      " 5   steward     5101 non-null   object\n",
      " 6   guards      5041 non-null   object\n",
      " 7   sidewalk    19984 non-null  object\n",
      " 8   user_type   19984 non-null  object\n",
      " 9   problems    7741 non-null   object\n",
      " 10  spc_common  19984 non-null  object\n",
      " 11  spc_latin   19984 non-null  object\n",
      " 12  nta         19984 non-null  object\n",
      " 13  nta_name    19984 non-null  object\n",
      " 14  borocode    19984 non-null  int64 \n",
      " 15  boro_ct     19984 non-null  int64 \n",
      " 16  boroname    19984 non-null  object\n",
      " 17  zip_city    19984 non-null  object\n",
      " 18  cb_num      19984 non-null  int64 \n",
      " 19  st_senate   19984 non-null  int64 \n",
      " 20  st_assem    19984 non-null  int64 \n",
      " 21  cncldist    19984 non-null  int64 \n",
      "dtypes: int64(9), object(13)\n",
      "memory usage: 3.4+ MB\n"
     ]
    }
   ],
   "source": [
    "train.info()"
   ]
  },
  {
   "cell_type": "code",
   "execution_count": 66,
   "metadata": {},
   "outputs": [],
   "source": [
    "df[\"steward\"] = df[\"steward\"].fillna(\"Unsure\")"
   ]
  },
  {
   "cell_type": "code",
   "execution_count": 67,
   "metadata": {},
   "outputs": [
    {
     "data": {
      "text/plain": [
       "guards\n",
       "Helpful    7366\n",
       "Unsure     1490\n",
       "Harmful    1320\n",
       "Name: count, dtype: int64"
      ]
     },
     "execution_count": 67,
     "metadata": {},
     "output_type": "execute_result"
    }
   ],
   "source": [
    "df[\"guards\"].value_counts()"
   ]
  },
  {
   "cell_type": "code",
   "execution_count": 68,
   "metadata": {},
   "outputs": [],
   "source": [
    "df[\"guards\"] = df[\"guards\"].fillna(\"Unsure\")"
   ]
  },
  {
   "cell_type": "code",
   "execution_count": 55,
   "metadata": {},
   "outputs": [
    {
     "data": {
      "text/plain": [
       "problems\n",
       "Stones                                  4455\n",
       "BranchLights                            2045\n",
       "StonesBranchLights                      1529\n",
       "BranchOther                              793\n",
       "RootOther                                717\n",
       "                                        ... \n",
       "StonesTrunkLightsBranchLights             15\n",
       "StonesRootOtherTrunkOtherBranchOther      15\n",
       "RootOtherWiresRopeTrunkLights             12\n",
       "TrunkLightsBranchLightsBranchOther        12\n",
       "WiresRopeTrunkLightsBranchLights           9\n",
       "Name: count, Length: 73, dtype: int64"
      ]
     },
     "execution_count": 55,
     "metadata": {},
     "output_type": "execute_result"
    }
   ],
   "source": [
    "df[\"problems\"].value_counts()"
   ]
  },
  {
   "cell_type": "code",
   "execution_count": 70,
   "metadata": {},
   "outputs": [],
   "source": [
    "df = pd.get_dummies(df, columns=['steward','guards'], drop_first=False, dtype = int)"
   ]
  },
  {
   "cell_type": "code",
   "execution_count": 71,
   "metadata": {},
   "outputs": [
    {
     "name": "stdout",
     "output_type": "stream",
     "text": [
      "<class 'pandas.core.frame.DataFrame'>\n",
      "Index: 39686 entries, 0 to 19701\n",
      "Data columns (total 27 columns):\n",
      " #   Column           Non-Null Count  Dtype  \n",
      "---  ------           --------------  -----  \n",
      " 0   Unnamed: 0       39686 non-null  int64  \n",
      " 1   created_at       39686 non-null  object \n",
      " 2   tree_dbh         39686 non-null  int64  \n",
      " 3   curb_loc         39686 non-null  object \n",
      " 4   health           19984 non-null  float64\n",
      " 5   sidewalk         39686 non-null  object \n",
      " 6   user_type        39686 non-null  object \n",
      " 7   problems         15398 non-null  object \n",
      " 8   spc_common       39686 non-null  object \n",
      " 9   spc_latin        39686 non-null  object \n",
      " 10  nta              39686 non-null  object \n",
      " 11  nta_name         39686 non-null  object \n",
      " 12  borocode         39686 non-null  int64  \n",
      " 13  boro_ct          39686 non-null  int64  \n",
      " 14  boroname         39686 non-null  object \n",
      " 15  zip_city         39686 non-null  object \n",
      " 16  cb_num           39686 non-null  int64  \n",
      " 17  st_senate        39686 non-null  int64  \n",
      " 18  st_assem         39686 non-null  int64  \n",
      " 19  cncldist         39686 non-null  int64  \n",
      " 20  steward_1or2     39686 non-null  int64  \n",
      " 21  steward_3or4     39686 non-null  int64  \n",
      " 22  steward_4orMore  39686 non-null  int64  \n",
      " 23  steward_Unsure   39686 non-null  int64  \n",
      " 24  guards_Harmful   39686 non-null  int64  \n",
      " 25  guards_Helpful   39686 non-null  int64  \n",
      " 26  guards_Unsure    39686 non-null  int64  \n",
      "dtypes: float64(1), int64(15), object(11)\n",
      "memory usage: 8.5+ MB\n"
     ]
    }
   ],
   "source": [
    "df.info()"
   ]
  },
  {
   "cell_type": "code",
   "execution_count": 72,
   "metadata": {},
   "outputs": [
    {
     "data": {
      "text/html": [
       "<div>\n",
       "<style scoped>\n",
       "    .dataframe tbody tr th:only-of-type {\n",
       "        vertical-align: middle;\n",
       "    }\n",
       "\n",
       "    .dataframe tbody tr th {\n",
       "        vertical-align: top;\n",
       "    }\n",
       "\n",
       "    .dataframe thead th {\n",
       "        text-align: right;\n",
       "    }\n",
       "</style>\n",
       "<table border=\"1\" class=\"dataframe\">\n",
       "  <thead>\n",
       "    <tr style=\"text-align: right;\">\n",
       "      <th></th>\n",
       "      <th>Unnamed: 0</th>\n",
       "      <th>created_at</th>\n",
       "      <th>tree_dbh</th>\n",
       "      <th>curb_loc</th>\n",
       "      <th>health</th>\n",
       "      <th>sidewalk</th>\n",
       "      <th>user_type</th>\n",
       "      <th>problems</th>\n",
       "      <th>spc_common</th>\n",
       "      <th>spc_latin</th>\n",
       "      <th>...</th>\n",
       "      <th>st_senate</th>\n",
       "      <th>st_assem</th>\n",
       "      <th>cncldist</th>\n",
       "      <th>steward_1or2</th>\n",
       "      <th>steward_3or4</th>\n",
       "      <th>steward_4orMore</th>\n",
       "      <th>steward_Unsure</th>\n",
       "      <th>guards_Harmful</th>\n",
       "      <th>guards_Helpful</th>\n",
       "      <th>guards_Unsure</th>\n",
       "    </tr>\n",
       "  </thead>\n",
       "  <tbody>\n",
       "    <tr>\n",
       "      <th>0</th>\n",
       "      <td>0</td>\n",
       "      <td>2015-06-29</td>\n",
       "      <td>14</td>\n",
       "      <td>OnCurb</td>\n",
       "      <td>1.0</td>\n",
       "      <td>Damage</td>\n",
       "      <td>Volunteer</td>\n",
       "      <td>NaN</td>\n",
       "      <td>English oak</td>\n",
       "      <td>Quercus robur</td>\n",
       "      <td>...</td>\n",
       "      <td>11</td>\n",
       "      <td>25</td>\n",
       "      <td>23</td>\n",
       "      <td>0</td>\n",
       "      <td>0</td>\n",
       "      <td>0</td>\n",
       "      <td>1</td>\n",
       "      <td>0</td>\n",
       "      <td>0</td>\n",
       "      <td>1</td>\n",
       "    </tr>\n",
       "    <tr>\n",
       "      <th>1</th>\n",
       "      <td>1</td>\n",
       "      <td>2016-09-21</td>\n",
       "      <td>5</td>\n",
       "      <td>OnCurb</td>\n",
       "      <td>1.0</td>\n",
       "      <td>NoDamage</td>\n",
       "      <td>Volunteer</td>\n",
       "      <td>NaN</td>\n",
       "      <td>crimson king maple</td>\n",
       "      <td>Acer platanoides 'Crimson King'</td>\n",
       "      <td>...</td>\n",
       "      <td>33</td>\n",
       "      <td>78</td>\n",
       "      <td>15</td>\n",
       "      <td>0</td>\n",
       "      <td>1</td>\n",
       "      <td>0</td>\n",
       "      <td>0</td>\n",
       "      <td>0</td>\n",
       "      <td>1</td>\n",
       "      <td>0</td>\n",
       "    </tr>\n",
       "    <tr>\n",
       "      <th>2</th>\n",
       "      <td>2</td>\n",
       "      <td>2015-09-13</td>\n",
       "      <td>26</td>\n",
       "      <td>OnCurb</td>\n",
       "      <td>2.0</td>\n",
       "      <td>NoDamage</td>\n",
       "      <td>Volunteer</td>\n",
       "      <td>StonesBranchLights</td>\n",
       "      <td>English oak</td>\n",
       "      <td>Quercus robur</td>\n",
       "      <td>...</td>\n",
       "      <td>24</td>\n",
       "      <td>62</td>\n",
       "      <td>51</td>\n",
       "      <td>0</td>\n",
       "      <td>0</td>\n",
       "      <td>0</td>\n",
       "      <td>1</td>\n",
       "      <td>0</td>\n",
       "      <td>0</td>\n",
       "      <td>1</td>\n",
       "    </tr>\n",
       "    <tr>\n",
       "      <th>3</th>\n",
       "      <td>3</td>\n",
       "      <td>2016-05-09</td>\n",
       "      <td>15</td>\n",
       "      <td>OnCurb</td>\n",
       "      <td>0.0</td>\n",
       "      <td>Damage</td>\n",
       "      <td>NYC Parks Staff</td>\n",
       "      <td>NaN</td>\n",
       "      <td>honeylocust</td>\n",
       "      <td>Gleditsia triacanthos var. inermis</td>\n",
       "      <td>...</td>\n",
       "      <td>24</td>\n",
       "      <td>62</td>\n",
       "      <td>51</td>\n",
       "      <td>0</td>\n",
       "      <td>0</td>\n",
       "      <td>0</td>\n",
       "      <td>1</td>\n",
       "      <td>0</td>\n",
       "      <td>0</td>\n",
       "      <td>1</td>\n",
       "    </tr>\n",
       "    <tr>\n",
       "      <th>4</th>\n",
       "      <td>4</td>\n",
       "      <td>2016-06-24</td>\n",
       "      <td>23</td>\n",
       "      <td>OnCurb</td>\n",
       "      <td>1.0</td>\n",
       "      <td>NoDamage</td>\n",
       "      <td>Volunteer</td>\n",
       "      <td>Stones</td>\n",
       "      <td>London planetree</td>\n",
       "      <td>Platanus x acerifolia</td>\n",
       "      <td>...</td>\n",
       "      <td>30</td>\n",
       "      <td>70</td>\n",
       "      <td>9</td>\n",
       "      <td>0</td>\n",
       "      <td>0</td>\n",
       "      <td>0</td>\n",
       "      <td>1</td>\n",
       "      <td>0</td>\n",
       "      <td>0</td>\n",
       "      <td>1</td>\n",
       "    </tr>\n",
       "  </tbody>\n",
       "</table>\n",
       "<p>5 rows × 27 columns</p>\n",
       "</div>"
      ],
      "text/plain": [
       "   Unnamed: 0  created_at  tree_dbh curb_loc  health  sidewalk  \\\n",
       "0           0  2015-06-29        14   OnCurb     1.0    Damage   \n",
       "1           1  2016-09-21         5   OnCurb     1.0  NoDamage   \n",
       "2           2  2015-09-13        26   OnCurb     2.0  NoDamage   \n",
       "3           3  2016-05-09        15   OnCurb     0.0    Damage   \n",
       "4           4  2016-06-24        23   OnCurb     1.0  NoDamage   \n",
       "\n",
       "         user_type            problems          spc_common  \\\n",
       "0        Volunteer                 NaN         English oak   \n",
       "1        Volunteer                 NaN  crimson king maple   \n",
       "2        Volunteer  StonesBranchLights         English oak   \n",
       "3  NYC Parks Staff                 NaN         honeylocust   \n",
       "4        Volunteer              Stones    London planetree   \n",
       "\n",
       "                            spc_latin  ... st_senate st_assem  cncldist  \\\n",
       "0                       Quercus robur  ...        11       25        23   \n",
       "1     Acer platanoides 'Crimson King'  ...        33       78        15   \n",
       "2                       Quercus robur  ...        24       62        51   \n",
       "3  Gleditsia triacanthos var. inermis  ...        24       62        51   \n",
       "4               Platanus x acerifolia  ...        30       70         9   \n",
       "\n",
       "   steward_1or2 steward_3or4 steward_4orMore  steward_Unsure  guards_Harmful  \\\n",
       "0             0            0               0               1               0   \n",
       "1             0            1               0               0               0   \n",
       "2             0            0               0               1               0   \n",
       "3             0            0               0               1               0   \n",
       "4             0            0               0               1               0   \n",
       "\n",
       "   guards_Helpful  guards_Unsure  \n",
       "0               0              1  \n",
       "1               1              0  \n",
       "2               0              1  \n",
       "3               0              1  \n",
       "4               0              1  \n",
       "\n",
       "[5 rows x 27 columns]"
      ]
     },
     "execution_count": 72,
     "metadata": {},
     "output_type": "execute_result"
    }
   ],
   "source": [
    "df.head()"
   ]
  },
  {
   "cell_type": "code",
   "execution_count": 92,
   "metadata": {},
   "outputs": [
    {
     "data": {
      "text/html": [
       "<div>\n",
       "<style scoped>\n",
       "    .dataframe tbody tr th:only-of-type {\n",
       "        vertical-align: middle;\n",
       "    }\n",
       "\n",
       "    .dataframe tbody tr th {\n",
       "        vertical-align: top;\n",
       "    }\n",
       "\n",
       "    .dataframe thead th {\n",
       "        text-align: right;\n",
       "    }\n",
       "</style>\n",
       "<table border=\"1\" class=\"dataframe\">\n",
       "  <thead>\n",
       "    <tr style=\"text-align: right;\">\n",
       "      <th></th>\n",
       "      <th>nta</th>\n",
       "      <th>nta_name</th>\n",
       "      <th>borocode</th>\n",
       "      <th>boro_ct</th>\n",
       "      <th>cb_num</th>\n",
       "      <th>st_senate</th>\n",
       "      <th>st_assem</th>\n",
       "      <th>cncldist</th>\n",
       "    </tr>\n",
       "  </thead>\n",
       "  <tbody>\n",
       "    <tr>\n",
       "      <th>0</th>\n",
       "      <td>QN45</td>\n",
       "      <td>Douglas Manor-Douglaston-Little Neck</td>\n",
       "      <td>4</td>\n",
       "      <td>4152901</td>\n",
       "      <td>411</td>\n",
       "      <td>11</td>\n",
       "      <td>25</td>\n",
       "      <td>23</td>\n",
       "    </tr>\n",
       "  </tbody>\n",
       "</table>\n",
       "</div>"
      ],
      "text/plain": [
       "    nta                              nta_name  borocode  boro_ct  cb_num  \\\n",
       "0  QN45  Douglas Manor-Douglaston-Little Neck         4  4152901     411   \n",
       "\n",
       "   st_senate  st_assem  cncldist  \n",
       "0         11        25        23  "
      ]
     },
     "execution_count": 92,
     "metadata": {},
     "output_type": "execute_result"
    }
   ],
   "source": [
    "df.loc[df[\"Unnamed: 0\"]==0, [\"nta\",\"nta_name\",\"borocode\",\"boro_ct\",\"cb_num\",\"st_senate\",\"st_assem\",\"cncldist\"]] "
   ]
  },
  {
   "cell_type": "code",
   "execution_count": 93,
   "metadata": {},
   "outputs": [],
   "source": [
    "df = df.drop([\"nta\",\"nta_name\",\"boroname\",\"zip_city\"], axis=1)"
   ]
  },
  {
   "cell_type": "code",
   "execution_count": 95,
   "metadata": {},
   "outputs": [],
   "source": [
    "df[\"created_at\"] = pd.to_datetime(df[\"created_at\"])"
   ]
  },
  {
   "cell_type": "code",
   "execution_count": 97,
   "metadata": {},
   "outputs": [
    {
     "data": {
      "text/plain": [
       "curb_loc\n",
       "OnCurb            37270\n",
       "OffsetFromCurb     2416\n",
       "Name: count, dtype: int64"
      ]
     },
     "execution_count": 97,
     "metadata": {},
     "output_type": "execute_result"
    }
   ],
   "source": [
    "df[\"curb_loc\"].value_counts()"
   ]
  },
  {
   "cell_type": "code",
   "execution_count": 98,
   "metadata": {},
   "outputs": [
    {
     "data": {
      "text/plain": [
       "sidewalk\n",
       "NoDamage    21177\n",
       "Damage      18509\n",
       "Name: count, dtype: int64"
      ]
     },
     "execution_count": 98,
     "metadata": {},
     "output_type": "execute_result"
    }
   ],
   "source": [
    "df[\"sidewalk\"].value_counts()"
   ]
  },
  {
   "cell_type": "code",
   "execution_count": 99,
   "metadata": {},
   "outputs": [
    {
     "data": {
      "text/plain": [
       "user_type\n",
       "Volunteer           22298\n",
       "TreesCount Staff    11357\n",
       "NYC Parks Staff      6031\n",
       "Name: count, dtype: int64"
      ]
     },
     "execution_count": 99,
     "metadata": {},
     "output_type": "execute_result"
    }
   ],
   "source": [
    "df[\"user_type\"].value_counts()"
   ]
  },
  {
   "cell_type": "code",
   "execution_count": 100,
   "metadata": {},
   "outputs": [],
   "source": [
    "df = pd.get_dummies(df, columns=['curb_loc','sidewalk','user_type'], drop_first=False, dtype = int)"
   ]
  },
  {
   "cell_type": "code",
   "execution_count": 139,
   "metadata": {},
   "outputs": [],
   "source": [
    "df[\"year\"] = df[\"created_at\"].dt.year\n",
    "df[\"month\"] = df[\"created_at\"].dt.month\n",
    "df = df.drop([\"created_at\"], axis=1)"
   ]
  },
  {
   "cell_type": "code",
   "execution_count": 141,
   "metadata": {},
   "outputs": [],
   "source": [
    "df = df.drop([\"Unnamed: 0\"], axis=1)"
   ]
  },
  {
   "cell_type": "code",
   "execution_count": 144,
   "metadata": {},
   "outputs": [],
   "source": [
    "df_1 = df.drop([\"problems\",\"spc_common\",\"spc_latin\"], axis=1)"
   ]
  },
  {
   "cell_type": "code",
   "execution_count": 179,
   "metadata": {},
   "outputs": [
    {
     "name": "stdout",
     "output_type": "stream",
     "text": [
      "<class 'pandas.core.frame.DataFrame'>\n",
      "Index: 39686 entries, 0 to 19701\n",
      "Data columns (total 24 columns):\n",
      " #   Column                      Non-Null Count  Dtype  \n",
      "---  ------                      --------------  -----  \n",
      " 0   tree_dbh                    39686 non-null  int64  \n",
      " 1   health                      19984 non-null  float64\n",
      " 2   borocode                    39686 non-null  int64  \n",
      " 3   boro_ct                     39686 non-null  int64  \n",
      " 4   cb_num                      39686 non-null  int64  \n",
      " 5   st_senate                   39686 non-null  int64  \n",
      " 6   st_assem                    39686 non-null  int64  \n",
      " 7   cncldist                    39686 non-null  int64  \n",
      " 8   steward_1or2                39686 non-null  int64  \n",
      " 9   steward_3or4                39686 non-null  int64  \n",
      " 10  steward_4orMore             39686 non-null  int64  \n",
      " 11  steward_Unsure              39686 non-null  int64  \n",
      " 12  guards_Harmful              39686 non-null  int64  \n",
      " 13  guards_Helpful              39686 non-null  int64  \n",
      " 14  guards_Unsure               39686 non-null  int64  \n",
      " 15  curb_loc_OffsetFromCurb     39686 non-null  int64  \n",
      " 16  curb_loc_OnCurb             39686 non-null  int64  \n",
      " 17  sidewalk_Damage             39686 non-null  int64  \n",
      " 18  sidewalk_NoDamage           39686 non-null  int64  \n",
      " 19  user_type_NYC Parks Staff   39686 non-null  int64  \n",
      " 20  user_type_TreesCount Staff  39686 non-null  int64  \n",
      " 21  user_type_Volunteer         39686 non-null  int64  \n",
      " 22  year                        39686 non-null  int32  \n",
      " 23  month                       39686 non-null  int32  \n",
      "dtypes: float64(1), int32(2), int64(21)\n",
      "memory usage: 8.3 MB\n"
     ]
    }
   ],
   "source": [
    "df_1.info()"
   ]
  },
  {
   "cell_type": "code",
   "execution_count": 180,
   "metadata": {},
   "outputs": [],
   "source": [
    "data1_train = df_1[:len(train)]\n",
    "data1_test = df_1[len(train):].drop([\"health\"], axis=1)"
   ]
  },
  {
   "cell_type": "code",
   "execution_count": 181,
   "metadata": {},
   "outputs": [],
   "source": [
    "y1_train = data1_train[\"health\"]\n",
    "X1_train = data1_train.drop([\"health\"], axis=1)\n",
    "X1_test = data1_test"
   ]
  },
  {
   "cell_type": "code",
   "execution_count": 182,
   "metadata": {},
   "outputs": [],
   "source": [
    "from sklearn.ensemble import RandomForestClassifier\n",
    "\n",
    "#ランダムフォレストのパラメータ指定（デフォルト）\n",
    "clf = RandomForestClassifier()\n",
    "clf.fit(X1_train, y1_train)\n",
    "y1_test = clf.predict(X1_test)"
   ]
  },
  {
   "cell_type": "code",
   "execution_count": 183,
   "metadata": {},
   "outputs": [],
   "source": [
    "result = pd.DataFrame({\"Unnamed: 0\": test[\"Unnamed: 0\"], \"health\": y1_test})"
   ]
  },
  {
   "cell_type": "code",
   "execution_count": 184,
   "metadata": {},
   "outputs": [
    {
     "data": {
      "text/html": [
       "<div>\n",
       "<style scoped>\n",
       "    .dataframe tbody tr th:only-of-type {\n",
       "        vertical-align: middle;\n",
       "    }\n",
       "\n",
       "    .dataframe tbody tr th {\n",
       "        vertical-align: top;\n",
       "    }\n",
       "\n",
       "    .dataframe thead th {\n",
       "        text-align: right;\n",
       "    }\n",
       "</style>\n",
       "<table border=\"1\" class=\"dataframe\">\n",
       "  <thead>\n",
       "    <tr style=\"text-align: right;\">\n",
       "      <th></th>\n",
       "      <th>Unnamed: 0</th>\n",
       "      <th>health</th>\n",
       "    </tr>\n",
       "  </thead>\n",
       "  <tbody>\n",
       "    <tr>\n",
       "      <th>0</th>\n",
       "      <td>19984</td>\n",
       "      <td>1</td>\n",
       "    </tr>\n",
       "    <tr>\n",
       "      <th>1</th>\n",
       "      <td>19985</td>\n",
       "      <td>1</td>\n",
       "    </tr>\n",
       "    <tr>\n",
       "      <th>2</th>\n",
       "      <td>19986</td>\n",
       "      <td>1</td>\n",
       "    </tr>\n",
       "    <tr>\n",
       "      <th>3</th>\n",
       "      <td>19987</td>\n",
       "      <td>1</td>\n",
       "    </tr>\n",
       "    <tr>\n",
       "      <th>4</th>\n",
       "      <td>19988</td>\n",
       "      <td>1</td>\n",
       "    </tr>\n",
       "  </tbody>\n",
       "</table>\n",
       "</div>"
      ],
      "text/plain": [
       "   Unnamed: 0  health\n",
       "0       19984       1\n",
       "1       19985       1\n",
       "2       19986       1\n",
       "3       19987       1\n",
       "4       19988       1"
      ]
     },
     "execution_count": 184,
     "metadata": {},
     "output_type": "execute_result"
    }
   ],
   "source": [
    "result[\"health\"] = result[\"health\"].astype(int)\n",
    "result.to_csv(\"/SMBC-GREEN-DATA-Challenge/data/submission3.csv\", index=False, header=False)\n",
    "\n",
    "result.head()"
   ]
  },
  {
   "cell_type": "code",
   "execution_count": 185,
   "metadata": {},
   "outputs": [
    {
     "name": "stdout",
     "output_type": "stream",
     "text": [
      "各特徴量の重要度:\n",
      "tree_dbh: 0.20449589820224087\n",
      "borocode: 0.2546716693769883\n",
      "boro_ct: 0.05465041491828638\n",
      "cb_num: 0.04630527540468209\n",
      "st_senate: 0.07514872801304101\n",
      "st_assem: 0.05643841231716665\n",
      "cncldist: 0.007735263000522127\n",
      "steward_1or2: 0.010639656270961481\n",
      "steward_3or4: 0.001187789979167855\n",
      "steward_4orMore: 0.011379612420646312\n",
      "steward_Unsure: 0.024525089419345315\n",
      "guards_Harmful: 0.023749034544368098\n",
      "guards_Helpful: 0.01985784133724383\n",
      "guards_Unsure: 0.020535895468763804\n",
      "curb_loc_OffsetFromCurb: 0.02245629691907955\n",
      "curb_loc_OnCurb: 0.0305766376428001\n",
      "sidewalk_Damage: 0.1356464847646962\n"
     ]
    }
   ],
   "source": [
    "# 特徴量の重要度の取得\n",
    "feature_importances = model.feature_importances_\n",
    "print(\"各特徴量の重要度:\")\n",
    "for feature, importance in zip(X1_train.columns, feature_importances):\n",
    "    print(f\"{feature}: {importance}\")"
   ]
  },
  {
   "cell_type": "code",
   "execution_count": 152,
   "metadata": {},
   "outputs": [],
   "source": [
    "df_2 = df.drop([\"spc_common\",\"spc_latin\"], axis=1)"
   ]
  },
  {
   "cell_type": "code",
   "execution_count": 157,
   "metadata": {},
   "outputs": [],
   "source": [
    "df_2[\"problems\"] = df[\"problems\"].fillna(df[\"problems\"].mode()[0])"
   ]
  },
  {
   "cell_type": "code",
   "execution_count": 158,
   "metadata": {},
   "outputs": [],
   "source": [
    "df_2 = pd.get_dummies(df_2, columns=['problems'], drop_first=False, dtype = int)"
   ]
  },
  {
   "cell_type": "code",
   "execution_count": 159,
   "metadata": {},
   "outputs": [],
   "source": [
    "data2_train = df_2[:len(train)]\n",
    "data2_test = df_2[len(train):].drop([\"health\"], axis=1)"
   ]
  },
  {
   "cell_type": "code",
   "execution_count": 160,
   "metadata": {},
   "outputs": [],
   "source": [
    "y2_train = data2_train[\"health\"]\n",
    "X2_train = data2_train.drop([\"health\"], axis=1)\n",
    "X2_test = data2_test"
   ]
  },
  {
   "cell_type": "code",
   "execution_count": 161,
   "metadata": {},
   "outputs": [],
   "source": [
    "from sklearn.ensemble import RandomForestClassifier\n",
    "\n",
    "#ランダムフォレストのパラメータ指定（デフォルト）\n",
    "clf = RandomForestClassifier()\n",
    "clf.fit(X2_train, y2_train)\n",
    "y2_test = clf.predict(X2_test)"
   ]
  },
  {
   "cell_type": "code",
   "execution_count": 163,
   "metadata": {},
   "outputs": [],
   "source": [
    "result2 = pd.DataFrame({\"Unnamed: 0\": test[\"Unnamed: 0\"], \"health\": y2_test})"
   ]
  },
  {
   "cell_type": "code",
   "execution_count": 164,
   "metadata": {},
   "outputs": [
    {
     "data": {
      "text/html": [
       "<div>\n",
       "<style scoped>\n",
       "    .dataframe tbody tr th:only-of-type {\n",
       "        vertical-align: middle;\n",
       "    }\n",
       "\n",
       "    .dataframe tbody tr th {\n",
       "        vertical-align: top;\n",
       "    }\n",
       "\n",
       "    .dataframe thead th {\n",
       "        text-align: right;\n",
       "    }\n",
       "</style>\n",
       "<table border=\"1\" class=\"dataframe\">\n",
       "  <thead>\n",
       "    <tr style=\"text-align: right;\">\n",
       "      <th></th>\n",
       "      <th>Unnamed: 0</th>\n",
       "      <th>health</th>\n",
       "    </tr>\n",
       "  </thead>\n",
       "  <tbody>\n",
       "    <tr>\n",
       "      <th>0</th>\n",
       "      <td>19984</td>\n",
       "      <td>1</td>\n",
       "    </tr>\n",
       "    <tr>\n",
       "      <th>1</th>\n",
       "      <td>19985</td>\n",
       "      <td>1</td>\n",
       "    </tr>\n",
       "    <tr>\n",
       "      <th>2</th>\n",
       "      <td>19986</td>\n",
       "      <td>1</td>\n",
       "    </tr>\n",
       "    <tr>\n",
       "      <th>3</th>\n",
       "      <td>19987</td>\n",
       "      <td>1</td>\n",
       "    </tr>\n",
       "    <tr>\n",
       "      <th>4</th>\n",
       "      <td>19988</td>\n",
       "      <td>1</td>\n",
       "    </tr>\n",
       "  </tbody>\n",
       "</table>\n",
       "</div>"
      ],
      "text/plain": [
       "   Unnamed: 0  health\n",
       "0       19984       1\n",
       "1       19985       1\n",
       "2       19986       1\n",
       "3       19987       1\n",
       "4       19988       1"
      ]
     },
     "execution_count": 164,
     "metadata": {},
     "output_type": "execute_result"
    }
   ],
   "source": [
    "result2[\"health\"] = result2[\"health\"].astype(int)\n",
    "result2.to_csv(\"/SMBC-GREEN-DATA-Challenge/data/submission4.csv\", index=False, header=False)\n",
    "\n",
    "result2.head()"
   ]
  },
  {
   "cell_type": "code",
   "execution_count": 166,
   "metadata": {},
   "outputs": [
    {
     "name": "stdout",
     "output_type": "stream",
     "text": [
      "<class 'pandas.core.frame.DataFrame'>\n",
      "Index: 39686 entries, 0 to 19701\n",
      "Data columns (total 97 columns):\n",
      " #   Column                                                              Non-Null Count  Dtype  \n",
      "---  ------                                                              --------------  -----  \n",
      " 0   tree_dbh                                                            39686 non-null  int64  \n",
      " 1   health                                                              19984 non-null  float64\n",
      " 2   borocode                                                            39686 non-null  int64  \n",
      " 3   boro_ct                                                             39686 non-null  int64  \n",
      " 4   cb_num                                                              39686 non-null  int64  \n",
      " 5   st_senate                                                           39686 non-null  int64  \n",
      " 6   st_assem                                                            39686 non-null  int64  \n",
      " 7   cncldist                                                            39686 non-null  int64  \n",
      " 8   steward_1or2                                                        39686 non-null  int64  \n",
      " 9   steward_3or4                                                        39686 non-null  int64  \n",
      " 10  steward_4orMore                                                     39686 non-null  int64  \n",
      " 11  steward_Unsure                                                      39686 non-null  int64  \n",
      " 12  guards_Harmful                                                      39686 non-null  int64  \n",
      " 13  guards_Helpful                                                      39686 non-null  int64  \n",
      " 14  guards_Unsure                                                       39686 non-null  int64  \n",
      " 15  curb_loc_OffsetFromCurb                                             39686 non-null  int64  \n",
      " 16  curb_loc_OnCurb                                                     39686 non-null  int64  \n",
      " 17  sidewalk_Damage                                                     39686 non-null  int64  \n",
      " 18  sidewalk_NoDamage                                                   39686 non-null  int64  \n",
      " 19  user_type_NYC Parks Staff                                           39686 non-null  int64  \n",
      " 20  user_type_TreesCount Staff                                          39686 non-null  int64  \n",
      " 21  user_type_Volunteer                                                 39686 non-null  int64  \n",
      " 22  year                                                                39686 non-null  int32  \n",
      " 23  month                                                               39686 non-null  int32  \n",
      " 24  problems_BranchLights                                               39686 non-null  int64  \n",
      " 25  problems_BranchLightsBranchOther                                    39686 non-null  int64  \n",
      " 26  problems_BranchOther                                                39686 non-null  int64  \n",
      " 27  problems_MetalGrates                                                39686 non-null  int64  \n",
      " 28  problems_MetalGratesBranchOther                                     39686 non-null  int64  \n",
      " 29  problems_MetalGratesRootOtherBranchOther                            39686 non-null  int64  \n",
      " 30  problems_MetalGratesRootOtherTrunkOther                             39686 non-null  int64  \n",
      " 31  problems_MetalGratesTrunkOther                                      39686 non-null  int64  \n",
      " 32  problems_MetalGratesTrunkOtherBranchOther                           39686 non-null  int64  \n",
      " 33  problems_MetalGratesWiresRope                                       39686 non-null  int64  \n",
      " 34  problems_RootOther                                                  39686 non-null  int64  \n",
      " 35  problems_RootOtherBranchLights                                      39686 non-null  int64  \n",
      " 36  problems_RootOtherBranchLightsBranchOther                           39686 non-null  int64  \n",
      " 37  problems_RootOtherBranchOther                                       39686 non-null  int64  \n",
      " 38  problems_RootOtherTrunkLightsBranchOther                            39686 non-null  int64  \n",
      " 39  problems_RootOtherTrunkOther                                        39686 non-null  int64  \n",
      " 40  problems_RootOtherTrunkOtherBranchLights                            39686 non-null  int64  \n",
      " 41  problems_RootOtherTrunkOtherBranchLightsBranchOther                 39686 non-null  int64  \n",
      " 42  problems_RootOtherTrunkOtherBranchOther                             39686 non-null  int64  \n",
      " 43  problems_RootOtherWiresRope                                         39686 non-null  int64  \n",
      " 44  problems_RootOtherWiresRopeBranchLights                             39686 non-null  int64  \n",
      " 45  problems_RootOtherWiresRopeBranchLightsBranchOther                  39686 non-null  int64  \n",
      " 46  problems_RootOtherWiresRopeBranchOther                              39686 non-null  int64  \n",
      " 47  problems_RootOtherWiresRopeTrunkLights                              39686 non-null  int64  \n",
      " 48  problems_RootOtherWiresRopeTrunkOther                               39686 non-null  int64  \n",
      " 49  problems_RootOtherWiresRopeTrunkOtherBranchLights                   39686 non-null  int64  \n",
      " 50  problems_RootOtherWiresRopeTrunkOtherBranchOther                    39686 non-null  int64  \n",
      " 51  problems_Stones                                                     39686 non-null  int64  \n",
      " 52  problems_StonesBranchLights                                         39686 non-null  int64  \n",
      " 53  problems_StonesBranchLightsBranchOther                              39686 non-null  int64  \n",
      " 54  problems_StonesBranchOther                                          39686 non-null  int64  \n",
      " 55  problems_StonesMetalGrates                                          39686 non-null  int64  \n",
      " 56  problems_StonesMetalGratesBranchLights                              39686 non-null  int64  \n",
      " 57  problems_StonesMetalGratesTrunkOther                                39686 non-null  int64  \n",
      " 58  problems_StonesMetalGratesWiresRopeTrunkLightsBranchLights          39686 non-null  int64  \n",
      " 59  problems_StonesRootOther                                            39686 non-null  int64  \n",
      " 60  problems_StonesRootOtherBranchLights                                39686 non-null  int64  \n",
      " 61  problems_StonesRootOtherBranchLightsBranchOther                     39686 non-null  int64  \n",
      " 62  problems_StonesRootOtherBranchOther                                 39686 non-null  int64  \n",
      " 63  problems_StonesRootOtherTrunkOther                                  39686 non-null  int64  \n",
      " 64  problems_StonesRootOtherTrunkOtherBranchLights                      39686 non-null  int64  \n",
      " 65  problems_StonesRootOtherTrunkOtherBranchOther                       39686 non-null  int64  \n",
      " 66  problems_StonesRootOtherWiresRopeBranchLights                       39686 non-null  int64  \n",
      " 67  problems_StonesRootOtherWiresRopeBranchOther                        39686 non-null  int64  \n",
      " 68  problems_StonesRootOtherWiresRopeTrunkOtherBranchLightsBranchOther  39686 non-null  int64  \n",
      " 69  problems_StonesSneakers                                             39686 non-null  int64  \n",
      " 70  problems_StonesTrunkLightsBranchLights                              39686 non-null  int64  \n",
      " 71  problems_StonesTrunkOther                                           39686 non-null  int64  \n",
      " 72  problems_StonesTrunkOtherBranchLights                               39686 non-null  int64  \n",
      " 73  problems_StonesTrunkOtherBranchLightsBranchOther                    39686 non-null  int64  \n",
      " 74  problems_StonesTrunkOtherBranchOther                                39686 non-null  int64  \n",
      " 75  problems_StonesWiresRope                                            39686 non-null  int64  \n",
      " 76  problems_StonesWiresRopeBranchLights                                39686 non-null  int64  \n",
      " 77  problems_StonesWiresRopeBranchLightsBranchOther                     39686 non-null  int64  \n",
      " 78  problems_StonesWiresRopeBranchOther                                 39686 non-null  int64  \n",
      " 79  problems_StonesWiresRopeTrunkLightsBranchLights                     39686 non-null  int64  \n",
      " 80  problems_StonesWiresRopeTrunkOther                                  39686 non-null  int64  \n",
      " 81  problems_StonesWiresRopeTrunkOtherBranchLights                      39686 non-null  int64  \n",
      " 82  problems_TrunkLights                                                39686 non-null  int64  \n",
      " 83  problems_TrunkLightsBranchLights                                    39686 non-null  int64  \n",
      " 84  problems_TrunkLightsBranchLightsBranchOther                         39686 non-null  int64  \n",
      " 85  problems_TrunkOther                                                 39686 non-null  int64  \n",
      " 86  problems_TrunkOtherBranchLights                                     39686 non-null  int64  \n",
      " 87  problems_TrunkOtherBranchLightsBranchOther                          39686 non-null  int64  \n",
      " 88  problems_TrunkOtherBranchOther                                      39686 non-null  int64  \n",
      " 89  problems_WiresRope                                                  39686 non-null  int64  \n",
      " 90  problems_WiresRopeBranchLights                                      39686 non-null  int64  \n",
      " 91  problems_WiresRopeBranchOther                                       39686 non-null  int64  \n",
      " 92  problems_WiresRopeTrunkLights                                       39686 non-null  int64  \n",
      " 93  problems_WiresRopeTrunkLightsBranchLights                           39686 non-null  int64  \n",
      " 94  problems_WiresRopeTrunkOther                                        39686 non-null  int64  \n",
      " 95  problems_WiresRopeTrunkOtherBranchLightsBranchOther                 39686 non-null  int64  \n",
      " 96  problems_WiresRopeTrunkOtherBranchOther                             39686 non-null  int64  \n",
      "dtypes: float64(1), int32(2), int64(94)\n",
      "memory usage: 30.4 MB\n"
     ]
    }
   ],
   "source": [
    "df_2.info()"
   ]
  },
  {
   "cell_type": "code",
   "execution_count": 172,
   "metadata": {},
   "outputs": [],
   "source": [
    "df_3 = df_1.drop([\"borocode\",\"guards_Harmful\",\"guards_Helpful\",\"guards_Unsure\",\"curb_loc_OffsetFromCurb\",\"curb_loc_OnCurb\"], axis=1)"
   ]
  },
  {
   "cell_type": "code",
   "execution_count": 173,
   "metadata": {},
   "outputs": [],
   "source": [
    "data3_train = df_3[:len(train)]\n",
    "data3_test = df_3[len(train):].drop([\"health\"], axis=1)"
   ]
  },
  {
   "cell_type": "code",
   "execution_count": 174,
   "metadata": {},
   "outputs": [],
   "source": [
    "y3_train = data3_train[\"health\"]\n",
    "X3_train = data3_train.drop([\"health\"], axis=1)\n",
    "X3_test = data3_test"
   ]
  },
  {
   "cell_type": "code",
   "execution_count": 175,
   "metadata": {},
   "outputs": [],
   "source": [
    "#ランダムフォレストのパラメータ指定（デフォルト）\n",
    "clf = RandomForestClassifier()\n",
    "clf.fit(X3_train, y3_train)\n",
    "y3_test = clf.predict(X3_test)"
   ]
  },
  {
   "cell_type": "code",
   "execution_count": 176,
   "metadata": {},
   "outputs": [],
   "source": [
    "result3 = pd.DataFrame({\"Unnamed: 0\": test[\"Unnamed: 0\"], \"health\": y3_test})"
   ]
  },
  {
   "cell_type": "code",
   "execution_count": 177,
   "metadata": {},
   "outputs": [
    {
     "data": {
      "text/html": [
       "<div>\n",
       "<style scoped>\n",
       "    .dataframe tbody tr th:only-of-type {\n",
       "        vertical-align: middle;\n",
       "    }\n",
       "\n",
       "    .dataframe tbody tr th {\n",
       "        vertical-align: top;\n",
       "    }\n",
       "\n",
       "    .dataframe thead th {\n",
       "        text-align: right;\n",
       "    }\n",
       "</style>\n",
       "<table border=\"1\" class=\"dataframe\">\n",
       "  <thead>\n",
       "    <tr style=\"text-align: right;\">\n",
       "      <th></th>\n",
       "      <th>Unnamed: 0</th>\n",
       "      <th>health</th>\n",
       "    </tr>\n",
       "  </thead>\n",
       "  <tbody>\n",
       "    <tr>\n",
       "      <th>0</th>\n",
       "      <td>19984</td>\n",
       "      <td>1</td>\n",
       "    </tr>\n",
       "    <tr>\n",
       "      <th>1</th>\n",
       "      <td>19985</td>\n",
       "      <td>1</td>\n",
       "    </tr>\n",
       "    <tr>\n",
       "      <th>2</th>\n",
       "      <td>19986</td>\n",
       "      <td>1</td>\n",
       "    </tr>\n",
       "    <tr>\n",
       "      <th>3</th>\n",
       "      <td>19987</td>\n",
       "      <td>1</td>\n",
       "    </tr>\n",
       "    <tr>\n",
       "      <th>4</th>\n",
       "      <td>19988</td>\n",
       "      <td>1</td>\n",
       "    </tr>\n",
       "  </tbody>\n",
       "</table>\n",
       "</div>"
      ],
      "text/plain": [
       "   Unnamed: 0  health\n",
       "0       19984       1\n",
       "1       19985       1\n",
       "2       19986       1\n",
       "3       19987       1\n",
       "4       19988       1"
      ]
     },
     "execution_count": 177,
     "metadata": {},
     "output_type": "execute_result"
    }
   ],
   "source": [
    "result3[\"health\"] = result3[\"health\"].astype(int)\n",
    "result3.to_csv(\"/SMBC-GREEN-DATA-Challenge/data/submission5.csv\", index=False, header=False)\n",
    "\n",
    "result3.head()"
   ]
  },
  {
   "cell_type": "code",
   "execution_count": 178,
   "metadata": {},
   "outputs": [
    {
     "name": "stdout",
     "output_type": "stream",
     "text": [
      "各特徴量の重要度:\n",
      "tree_dbh: 0.20449589820224087\n",
      "boro_ct: 0.2546716693769883\n",
      "cb_num: 0.05465041491828638\n",
      "st_senate: 0.04630527540468209\n",
      "st_assem: 0.07514872801304101\n",
      "cncldist: 0.05643841231716665\n",
      "steward_1or2: 0.007735263000522127\n",
      "steward_3or4: 0.010639656270961481\n",
      "steward_4orMore: 0.001187789979167855\n",
      "steward_Unsure: 0.011379612420646312\n",
      "sidewalk_Damage: 0.024525089419345315\n",
      "sidewalk_NoDamage: 0.023749034544368098\n",
      "user_type_NYC Parks Staff: 0.01985784133724383\n",
      "user_type_TreesCount Staff: 0.020535895468763804\n",
      "user_type_Volunteer: 0.02245629691907955\n",
      "year: 0.0305766376428001\n",
      "month: 0.1356464847646962\n"
     ]
    }
   ],
   "source": [
    "from sklearn.ensemble import RandomForestRegressor\n",
    "import pandas as pd\n",
    "\n",
    "# ランダムフォレストモデルの訓練\n",
    "model = RandomForestRegressor(n_estimators=100, random_state=42)\n",
    "model.fit(X3_train, y3_train)\n",
    "\n",
    "# 特徴量の重要度の取得\n",
    "feature_importances = model.feature_importances_\n",
    "print(\"各特徴量の重要度:\")\n",
    "for feature, importance in zip(X3_train.columns, feature_importances):\n",
    "    print(f\"{feature}: {importance}\")"
   ]
  },
  {
   "cell_type": "code",
   "execution_count": 170,
   "metadata": {},
   "outputs": [
    {
     "name": "stdout",
     "output_type": "stream",
     "text": [
      "各特徴量の重要度:\n",
      "tree_dbh: 0.19034663687060369\n",
      "borocode: 0.0018383790605689683\n",
      "boro_ct: 0.2400714179877808\n",
      "cb_num: 0.05549923051355023\n",
      "st_senate: 0.048008128663152336\n",
      "st_assem: 0.0770555712493055\n",
      "cncldist: 0.058712229075958154\n",
      "steward_1or2: 0.013873040621814433\n",
      "steward_3or4: 0.011281410755096052\n",
      "steward_4orMore: 0.0013608372031771122\n",
      "steward_Unsure: 0.014239093579296471\n",
      "guards_Harmful: 0.0039760826760815654\n",
      "guards_Helpful: 0.004313095336748214\n",
      "guards_Unsure: 0.004240624563309061\n",
      "curb_loc_OffsetFromCurb: 0.010086816973360788\n",
      "curb_loc_OnCurb: 0.010006722116365923\n",
      "sidewalk_Damage: 0.020010416275608758\n",
      "sidewalk_NoDamage: 0.019798060158334158\n",
      "user_type_NYC Parks Staff: 0.019508898143384627\n",
      "user_type_TreesCount Staff: 0.021524702000468403\n",
      "user_type_Volunteer: 0.022528443696976944\n",
      "year: 0.02882724138199229\n",
      "month: 0.1228929210970654\n"
     ]
    }
   ],
   "source": [
    "from sklearn.ensemble import RandomForestRegressor\n",
    "import pandas as pd\n",
    "\n",
    "# ランダムフォレストモデルの訓練\n",
    "model = RandomForestRegressor(n_estimators=100, random_state=42)\n",
    "model.fit(X1_train, y1_train)\n",
    "\n",
    "# 特徴量の重要度の取得\n",
    "feature_importances = model.feature_importances_\n",
    "print(\"各特徴量の重要度:\")\n",
    "for feature, importance in zip(X1_train.columns, feature_importances):\n",
    "    print(f\"{feature}: {importance}\")\n"
   ]
  },
  {
   "cell_type": "markdown",
   "metadata": {},
   "source": [
    "borocode,guards いらない"
   ]
  },
  {
   "cell_type": "code",
   "execution_count": 171,
   "metadata": {},
   "outputs": [
    {
     "name": "stdout",
     "output_type": "stream",
     "text": [
      "各特徴量の重要度:\n",
      "tree_dbh: 0.1657731532876921\n",
      "borocode: 0.0025061629585079823\n",
      "boro_ct: 0.2038813184562993\n",
      "cb_num: 0.05188894441775943\n",
      "st_senate: 0.0449269160833171\n",
      "st_assem: 0.07105308446900532\n",
      "cncldist: 0.05473516391107302\n",
      "steward_1or2: 0.011909638999731203\n",
      "steward_3or4: 0.009618855527864826\n",
      "steward_4orMore: 0.0012151532225087504\n",
      "steward_Unsure: 0.01212378541815937\n",
      "guards_Harmful: 0.0031020306668537857\n",
      "guards_Helpful: 0.003095155012456538\n",
      "guards_Unsure: 0.0033055965632360395\n",
      "curb_loc_OffsetFromCurb: 0.008809548966742055\n",
      "curb_loc_OnCurb: 0.008946998348311787\n",
      "sidewalk_Damage: 0.016265292805730164\n",
      "sidewalk_NoDamage: 0.015901120085249097\n",
      "user_type_NYC Parks Staff: 0.017783235035950827\n",
      "user_type_TreesCount Staff: 0.019343317382924143\n",
      "user_type_Volunteer: 0.019788678809579713\n",
      "year: 0.02382541126750074\n",
      "month: 0.1046192555088111\n",
      "problems_BranchLights: 0.010491955720723731\n",
      "problems_BranchLightsBranchOther: 0.000848040826629758\n",
      "problems_BranchOther: 0.0055726986002477595\n",
      "problems_MetalGrates: 0.002392614789624095\n",
      "problems_MetalGratesBranchOther: 0.000892002020682912\n",
      "problems_MetalGratesRootOtherBranchOther: 0.000918611357728125\n",
      "problems_MetalGratesRootOtherTrunkOther: 0.0009357470037980506\n",
      "problems_MetalGratesTrunkOther: 0.0008056551537523042\n",
      "problems_MetalGratesTrunkOtherBranchOther: 0.000998534333453663\n",
      "problems_MetalGratesWiresRope: 0.0010326077513600344\n",
      "problems_RootOther: 0.00538935105111383\n",
      "problems_RootOtherBranchLights: 0.0013722590880422376\n",
      "problems_RootOtherBranchLightsBranchOther: 0.00028568402240651986\n",
      "problems_RootOtherBranchOther: 0.0015246916039644703\n",
      "problems_RootOtherTrunkLightsBranchOther: 0.0013655616648034984\n",
      "problems_RootOtherTrunkOther: 0.002666425151924727\n",
      "problems_RootOtherTrunkOtherBranchLights: 0.000877513910763987\n",
      "problems_RootOtherTrunkOtherBranchLightsBranchOther: 0.0004661893383093542\n",
      "problems_RootOtherTrunkOtherBranchOther: 0.00323476482361991\n",
      "problems_RootOtherWiresRope: 0.000828423349904256\n",
      "problems_RootOtherWiresRopeBranchLights: 0.0008356255696351163\n",
      "problems_RootOtherWiresRopeBranchLightsBranchOther: 0.0012904761631917496\n",
      "problems_RootOtherWiresRopeBranchOther: 0.0010624346995034444\n",
      "problems_RootOtherWiresRopeTrunkLights: 0.0004127999034049791\n",
      "problems_RootOtherWiresRopeTrunkOther: 0.0012147252597421252\n",
      "problems_RootOtherWiresRopeTrunkOtherBranchLights: 0.0003952168712497315\n",
      "problems_RootOtherWiresRopeTrunkOtherBranchOther: 0.0012615459800384712\n",
      "problems_Stones: 0.012984675520857724\n",
      "problems_StonesBranchLights: 0.006515204107273771\n",
      "problems_StonesBranchLightsBranchOther: 0.001202979371762109\n",
      "problems_StonesBranchOther: 0.002982580451752442\n",
      "problems_StonesMetalGrates: 0.0004804296494491588\n",
      "problems_StonesMetalGratesBranchLights: 0.000736521163647448\n",
      "problems_StonesMetalGratesTrunkOther: 0.0005333555636813083\n",
      "problems_StonesMetalGratesWiresRopeTrunkLightsBranchLights: 0.0007431105302648879\n",
      "problems_StonesRootOther: 0.004372097142830152\n",
      "problems_StonesRootOtherBranchLights: 0.0005287266171969364\n",
      "problems_StonesRootOtherBranchLightsBranchOther: 0.0007611313430358567\n",
      "problems_StonesRootOtherBranchOther: 0.0018801593289785444\n",
      "problems_StonesRootOtherTrunkOther: 0.0025092097164467132\n",
      "problems_StonesRootOtherTrunkOtherBranchLights: 0.0008510757793568104\n",
      "problems_StonesRootOtherTrunkOtherBranchOther: 0.0007849590102837465\n",
      "problems_StonesRootOtherWiresRopeBranchLights: 0.0018674598032890621\n",
      "problems_StonesRootOtherWiresRopeBranchOther: 0.0003475320524728422\n",
      "problems_StonesRootOtherWiresRopeTrunkOtherBranchLightsBranchOther: 0.000414604716785374\n",
      "problems_StonesSneakers: 0.00026928642340527014\n",
      "problems_StonesTrunkLightsBranchLights: 0.00029211716900701617\n",
      "problems_StonesTrunkOther: 0.004120125421234383\n",
      "problems_StonesTrunkOtherBranchLights: 0.0007088476537042549\n",
      "problems_StonesTrunkOtherBranchLightsBranchOther: 0.0005035694817111805\n",
      "problems_StonesTrunkOtherBranchOther: 0.002132072790687452\n",
      "problems_StonesWiresRope: 0.0009035059300845607\n",
      "problems_StonesWiresRopeBranchLights: 0.004268413378966923\n",
      "problems_StonesWiresRopeBranchLightsBranchOther: 0.0008630581410166239\n",
      "problems_StonesWiresRopeBranchOther: 0.0003999591228843781\n",
      "problems_StonesWiresRopeTrunkLightsBranchLights: 0.001248223765019918\n",
      "problems_StonesWiresRopeTrunkOther: 0.00019978027114241786\n",
      "problems_StonesWiresRopeTrunkOtherBranchLights: 0.0007084171318841466\n",
      "problems_TrunkLights: 0.0005466200965763615\n",
      "problems_TrunkLightsBranchLights: 0.0010435780103095528\n",
      "problems_TrunkLightsBranchLightsBranchOther: 0.00035740404347838763\n",
      "problems_TrunkOther: 0.004421715872171192\n",
      "problems_TrunkOtherBranchLights: 0.0009277419537473162\n",
      "problems_TrunkOtherBranchLightsBranchOther: 0.0004894580144941931\n",
      "problems_TrunkOtherBranchOther: 0.002026110662125696\n",
      "problems_WiresRope: 0.003405939101743139\n",
      "problems_WiresRopeBranchLights: 0.0022416037198653067\n",
      "problems_WiresRopeBranchOther: 0.0007343949924649889\n",
      "problems_WiresRopeTrunkLights: 0.000783547306741834\n",
      "problems_WiresRopeTrunkLightsBranchLights: 0.00020875782078173084\n",
      "problems_WiresRopeTrunkOther: 0.0003120614302947602\n",
      "problems_WiresRopeTrunkOtherBranchLightsBranchOther: 0.0009908157166828215\n",
      "problems_WiresRopeTrunkOtherBranchOther: 0.0006070894935261891\n"
     ]
    }
   ],
   "source": [
    "# ランダムフォレストモデルの訓練\n",
    "model = RandomForestRegressor(n_estimators=100, random_state=42)\n",
    "model.fit(X2_train, y2_train)\n",
    "\n",
    "# 特徴量の重要度の取得\n",
    "feature_importances = model.feature_importances_\n",
    "print(\"各特徴量の重要度:\")\n",
    "for feature, importance in zip(X2_train.columns, feature_importances):\n",
    "    print(f\"{feature}: {importance}\")\n"
   ]
  },
  {
   "cell_type": "markdown",
   "metadata": {},
   "source": [
    "borocode,guards いらない\n",
    "curb_locもいらない"
   ]
  },
  {
   "cell_type": "code",
   "execution_count": null,
   "metadata": {},
   "outputs": [],
   "source": []
  }
 ],
 "metadata": {
  "kernelspec": {
   "display_name": "Python 3",
   "language": "python",
   "name": "python3"
  },
  "language_info": {
   "codemirror_mode": {
    "name": "ipython",
    "version": 3
   },
   "file_extension": ".py",
   "mimetype": "text/x-python",
   "name": "python",
   "nbconvert_exporter": "python",
   "pygments_lexer": "ipython3",
   "version": "3.10.12"
  },
  "orig_nbformat": 4
 },
 "nbformat": 4,
 "nbformat_minor": 2
}
